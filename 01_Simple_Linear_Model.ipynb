{
 "cells": [
  {
   "cell_type": "markdown",
   "metadata": {},
   "source": [
    "# TensorFlow Tutorial #01\n",
    "# Simple Linear Model\n",
    "\n",
    "by [Magnus Erik Hvass Pedersen](http://www.hvass-labs.org/)\n",
    "/ [GitHub](https://github.com/Hvass-Labs/TensorFlow-Tutorials) / [Videos on YouTube](https://www.youtube.com/playlist?list=PL9Hr9sNUjfsmEu1ZniY0XpHSzl5uihcXZ)"
   ]
  },
  {
   "cell_type": "markdown",
   "metadata": {},
   "source": [
    "## Introduction\n",
    "\n",
    "This tutorial demonstrates the basic workflow of using TensorFlow with a simple linear model. After loading the so-called MNIST data-set with images of hand-written digits, we define and optimize a simple mathematical model in TensorFlow. The results are then plotted and discussed.\n",
    "\n",
    "You should be familiar with basic linear algebra, Python and the Jupyter Notebook editor. It also helps if you have a basic understanding of Machine Learning and classification."
   ]
  },
  {
   "cell_type": "markdown",
   "metadata": {},
   "source": [
    "## Imports"
   ]
  },
  {
   "cell_type": "code",
   "execution_count": 1,
   "metadata": {},
   "outputs": [
    {
     "name": "stderr",
     "output_type": "stream",
     "text": [
      "WARNING: Logging before flag parsing goes to stderr.\n",
      "W1130 10:38:45.348837 140735734195072 __init__.py:308] Limited tf.compat.v2.summary API due to missing TensorBoard installation.\n"
     ]
    }
   ],
   "source": [
    "%matplotlib inline\n",
    "import matplotlib.pyplot as plt\n",
    "import tensorflow as tf\n",
    "import numpy as np\n",
    "from sklearn.metrics import confusion_matrix"
   ]
  },
  {
   "cell_type": "markdown",
   "metadata": {},
   "source": [
    "This was developed using Python 3.6 (Anaconda) and TensorFlow version:"
   ]
  },
  {
   "cell_type": "code",
   "execution_count": 2,
   "metadata": {},
   "outputs": [
    {
     "data": {
      "text/plain": [
       "'1.14.0'"
      ]
     },
     "execution_count": 2,
     "metadata": {},
     "output_type": "execute_result"
    }
   ],
   "source": [
    "tf.__version__"
   ]
  },
  {
   "cell_type": "markdown",
   "metadata": {},
   "source": [
    "## Load Data"
   ]
  },
  {
   "cell_type": "markdown",
   "metadata": {},
   "source": [
    "The MNIST data-set is about 12 MB and will be downloaded automatically if it is not located in the given path."
   ]
  },
  {
   "cell_type": "code",
   "execution_count": 3,
   "metadata": {},
   "outputs": [],
   "source": [
    "from mnist import MNIST\n",
    "data = MNIST(data_dir=\"data/MNIST/\")"
   ]
  },
  {
   "cell_type": "markdown",
   "metadata": {},
   "source": [
    "The MNIST data-set has now been loaded and consists of 70.000 images and class-numbers for the images. The data-set is split into 3 mutually exclusive sub-sets. We will only use the training and test-sets in this tutorial."
   ]
  },
  {
   "cell_type": "code",
   "execution_count": 4,
   "metadata": {},
   "outputs": [
    {
     "name": "stdout",
     "output_type": "stream",
     "text": [
      "Size of:\n",
      "- Training-set:\t\t55000\n",
      "- Validation-set:\t5000\n",
      "- Test-set:\t\t10000\n"
     ]
    }
   ],
   "source": [
    "print(\"Size of:\")\n",
    "print(\"- Training-set:\\t\\t{}\".format(data.num_train))\n",
    "print(\"- Validation-set:\\t{}\".format(data.num_val))\n",
    "print(\"- Test-set:\\t\\t{}\".format(data.num_test))"
   ]
  },
  {
   "cell_type": "markdown",
   "metadata": {},
   "source": [
    "Copy some of the data-dimensions for convenience."
   ]
  },
  {
   "cell_type": "code",
   "execution_count": 5,
   "metadata": {},
   "outputs": [
    {
     "name": "stdout",
     "output_type": "stream",
     "text": [
      "img_size_flat :  784\n",
      "img_shape     :  (28, 28)\n",
      "num_classes   :  10\n"
     ]
    }
   ],
   "source": [
    "# The images are stored in one-dimensional arrays of this length.\n",
    "img_size_flat = data.img_size_flat\n",
    "print(\"img_size_flat : \", img_size_flat)\n",
    "\n",
    "# Tuple with height and width of images used to reshape arrays.\n",
    "img_shape = data.img_shape\n",
    "print(\"img_shape     : \", img_shape)\n",
    "\n",
    "# Number of classes, one class for each of 10 digits.\n",
    "num_classes = data.num_classes\n",
    "print(\"num_classes   : \", num_classes) "
   ]
  },
  {
   "cell_type": "markdown",
   "metadata": {},
   "source": [
    "### One-Hot Encoding"
   ]
  },
  {
   "cell_type": "markdown",
   "metadata": {},
   "source": [
    "The output-data is loaded as both integer class-numbers and so-called One-Hot encoded arrays. This means the class-numbers have been converted from a single integer to a vector whose length equals the number of possible classes. All elements of the vector are zero except for the $i$'th element which is 1 and means the class is $i$. For example, the One-Hot encoded labels for the first 5 images in the test-set are:"
   ]
  },
  {
   "cell_type": "code",
   "execution_count": 6,
   "metadata": {},
   "outputs": [
    {
     "data": {
      "text/plain": [
       "array([[0., 0., 0., 0., 0., 0., 0., 1., 0., 0.],\n",
       "       [0., 0., 1., 0., 0., 0., 0., 0., 0., 0.],\n",
       "       [0., 1., 0., 0., 0., 0., 0., 0., 0., 0.],\n",
       "       [1., 0., 0., 0., 0., 0., 0., 0., 0., 0.],\n",
       "       [0., 0., 0., 0., 1., 0., 0., 0., 0., 0.]])"
      ]
     },
     "execution_count": 6,
     "metadata": {},
     "output_type": "execute_result"
    }
   ],
   "source": [
    "data.y_test[0:5, :]"
   ]
  },
  {
   "cell_type": "markdown",
   "metadata": {},
   "source": [
    "We also need the classes as integers for various comparisons and performance measures. These can be found from the One-Hot encoded arrays by taking the index of the highest element using the `np.argmax()` function. But this has already been done for us when the data-set was loaded, so we can see the class-number for the first five images in the test-set. Compare these to the One-Hot encoded arrays above."
   ]
  },
  {
   "cell_type": "code",
   "execution_count": 7,
   "metadata": {},
   "outputs": [
    {
     "data": {
      "text/plain": [
       "array([7, 2, 1, 0, 4])"
      ]
     },
     "execution_count": 7,
     "metadata": {},
     "output_type": "execute_result"
    }
   ],
   "source": [
    "data.y_test_cls[0:5]"
   ]
  },
  {
   "cell_type": "markdown",
   "metadata": {},
   "source": [
    "### Helper-function for plotting images"
   ]
  },
  {
   "cell_type": "markdown",
   "metadata": {},
   "source": [
    "Function used to plot 9 images in a 3x3 grid, and writing the true and predicted classes below each image."
   ]
  },
  {
   "cell_type": "code",
   "execution_count": 8,
   "metadata": {},
   "outputs": [],
   "source": [
    "def plot_images(images, cls_true, cls_pred=None):\n",
    "    assert len(images) == len(cls_true) == 9\n",
    "    \n",
    "    # Create figure with 3x3 sub-plots.\n",
    "    fig, axes = plt.subplots(3, 3)\n",
    "    fig.subplots_adjust(hspace=0.3, wspace=0.3)\n",
    "\n",
    "    for i, ax in enumerate(axes.flat):\n",
    "        # Plot image.\n",
    "        ax.imshow(images[i].reshape(img_shape), cmap='binary')\n",
    "\n",
    "        # Show true and predicted classes.\n",
    "        if cls_pred is None:\n",
    "            xlabel = \"True: {0}\".format(cls_true[i])\n",
    "        else:\n",
    "            xlabel = \"True: {0}, Pred: {1}\".format(cls_true[i], cls_pred[i])\n",
    "\n",
    "        ax.set_xlabel(xlabel)\n",
    "        \n",
    "        # Remove ticks from the plot.\n",
    "        ax.set_xticks([])\n",
    "        ax.set_yticks([])\n",
    "        \n",
    "    # Ensure the plot is shown correctly with multiple plots\n",
    "    # in a single Notebook cell.\n",
    "    plt.show()"
   ]
  },
  {
   "cell_type": "markdown",
   "metadata": {},
   "source": [
    "### Plot a few images to see if data is correct"
   ]
  },
  {
   "cell_type": "code",
   "execution_count": 9,
   "metadata": {},
   "outputs": [
    {
     "data": {
      "image/png": "[encoded data removed]",
      "text/plain": [
       "<Figure size 432x288 with 9 Axes>"
      ]
     },
     "metadata": {},
     "output_type": "display_data"
    }
   ],
   "source": [
    "# Get the first images from the test-set.\n",
    "images = data.x_test[0:9]\n",
    "\n",
    "# Get the true classes for those images.\n",
    "cls_true = data.y_test_cls[0:9]\n",
    "\n",
    "# Plot the images and labels using our helper-function above.\n",
    "plot_images(images=images, cls_true=cls_true)"
   ]
  },
  {
   "cell_type": "code",
   "execution_count": 10,
   "metadata": {},
   "outputs": [
    {
     "data": {
      "text/plain": [
       "array([0.        , 0.        , 0.        , 0.        , 0.        ,\n",
       "       0.        , 0.        , 0.        , 0.        , 0.        ,\n",
       "       0.        , 0.        , 0.        , 0.        , 0.        ,\n",
       "       0.        , 0.        , 0.        , 0.        , 0.        ,\n",
       "       0.        , 0.        , 0.        , 0.        , 0.        ,\n",
       "       0.        , 0.        , 0.        , 0.        , 0.        ,\n",
       "       0.        , 0.        , 0.        , 0.        , 0.        ,\n",
       "       0.        , 0.        , 0.        , 0.        , 0.        ,\n",
       "       0.        , 0.        , 0.        , 0.        , 0.        ,\n",
       "       0.        , 0.        , 0.        , 0.        , 0.        ,\n",
       "       0.        , 0.        , 0.        , 0.        , 0.        ,\n",
       "       0.        , 0.        , 0.        , 0.        , 0.        ,\n",
       "       0.        , 0.        , 0.        , 0.        , 0.        ,\n",
       "       0.        , 0.        , 0.        , 0.        , 0.        ,\n",
       "       0.        , 0.        , 0.        , 0.        , 0.        ,\n",
       "       0.        , 0.        , 0.        , 0.        , 0.        ,\n",
       "       0.        , 0.        , 0.        , 0.        , 0.        ,\n",
       "       0.        , 0.        , 0.        , 0.        , 0.        ,\n",
       "       0.        , 0.        , 0.        , 0.        , 0.        ,\n",
       "       0.        , 0.        , 0.        , 0.        , 0.        ,\n",
       "       0.        , 0.        , 0.        , 0.        , 0.        ,\n",
       "       0.        , 0.        , 0.        , 0.        , 0.        ,\n",
       "       0.        , 0.        , 0.        , 0.        , 0.        ,\n",
       "       0.        , 0.        , 0.        , 0.        , 0.        ,\n",
       "       0.        , 0.        , 0.        , 0.        , 0.        ,\n",
       "       0.        , 0.        , 0.        , 0.        , 0.        ,\n",
       "       0.        , 0.        , 0.        , 0.        , 0.        ,\n",
       "       0.        , 0.        , 0.        , 0.        , 0.        ,\n",
       "       0.        , 0.        , 0.        , 0.        , 0.        ,\n",
       "       0.        , 0.        , 0.        , 0.        , 0.        ,\n",
       "       0.        , 0.        , 0.        , 0.        , 0.        ,\n",
       "       0.        , 0.        , 0.        , 0.        , 0.        ,\n",
       "       0.        , 0.        , 0.        , 0.        , 0.        ,\n",
       "       0.        , 0.        , 0.        , 0.        , 0.        ,\n",
       "       0.        , 0.        , 0.        , 0.        , 0.        ,\n",
       "       0.        , 0.        , 0.        , 0.        , 0.        ,\n",
       "       0.        , 0.        , 0.        , 0.        , 0.        ,\n",
       "       0.        , 0.        , 0.        , 0.        , 0.        ,\n",
       "       0.        , 0.        , 0.        , 0.        , 0.        ,\n",
       "       0.        , 0.        , 0.        , 0.        , 0.        ,\n",
       "       0.        , 0.        , 0.32941176, 0.7254902 , 0.62352941,\n",
       "       0.59215686, 0.23529412, 0.14117647, 0.        , 0.        ,\n",
       "       0.        , 0.        , 0.        , 0.        , 0.        ,\n",
       "       0.        , 0.        , 0.        , 0.        , 0.        ,\n",
       "       0.        , 0.        , 0.        , 0.        , 0.        ,\n",
       "       0.        , 0.        , 0.        , 0.        , 0.        ,\n",
       "       0.87058824, 0.99607843, 0.99607843, 0.99607843, 0.99607843,\n",
       "       0.94509804, 0.77647059, 0.77647059, 0.77647059, 0.77647059,\n",
       "       0.77647059, 0.77647059, 0.77647059, 0.77647059, 0.66666667,\n",
       "       0.20392157, 0.        , 0.        , 0.        , 0.        ,\n",
       "       0.        , 0.        , 0.        , 0.        , 0.        ,\n",
       "       0.        , 0.        , 0.        , 0.2627451 , 0.44705882,\n",
       "       0.28235294, 0.44705882, 0.63921569, 0.89019608, 0.99607843,\n",
       "       0.88235294, 0.99607843, 0.99607843, 0.99607843, 0.98039216,\n",
       "       0.89803922, 0.99607843, 0.99607843, 0.54901961, 0.        ,\n",
       "       0.        , 0.        , 0.        , 0.        , 0.        ,\n",
       "       0.        , 0.        , 0.        , 0.        , 0.        ,\n",
       "       0.        , 0.        , 0.        , 0.        , 0.        ,\n",
       "       0.        , 0.06666667, 0.25882353, 0.05490196, 0.2627451 ,\n",
       "       0.2627451 , 0.2627451 , 0.23137255, 0.08235294, 0.9254902 ,\n",
       "       0.99607843, 0.41568627, 0.        , 0.        , 0.        ,\n",
       "       0.        , 0.        , 0.        , 0.        , 0.        ,\n",
       "       0.        , 0.        , 0.        , 0.        , 0.        ,\n",
       "       0.        , 0.        , 0.        , 0.        , 0.        ,\n",
       "       0.        , 0.        , 0.        , 0.        , 0.        ,\n",
       "       0.        , 0.3254902 , 0.99215686, 0.81960784, 0.07058824,\n",
       "       0.        , 0.        , 0.        , 0.        , 0.        ,\n",
       "       0.        , 0.        , 0.        , 0.        , 0.        ,\n",
       "       0.        , 0.        , 0.        , 0.        , 0.        ,\n",
       "       0.        , 0.        , 0.        , 0.        , 0.        ,\n",
       "       0.        , 0.        , 0.        , 0.08627451, 0.91372549,\n",
       "       1.        , 0.3254902 , 0.        , 0.        , 0.        ,\n",
       "       0.        , 0.        , 0.        , 0.        , 0.        ,\n",
       "       0.        , 0.        , 0.        , 0.        , 0.        ,\n",
       "       0.        , 0.        , 0.        , 0.        , 0.        ,\n",
       "       0.        , 0.        , 0.        , 0.        , 0.        ,\n",
       "       0.        , 0.50588235, 0.99607843, 0.93333333, 0.17254902,\n",
       "       0.        , 0.        , 0.        , 0.        , 0.        ,\n",
       "       0.        , 0.        , 0.        , 0.        , 0.        ,\n",
       "       0.        , 0.        , 0.        , 0.        , 0.        ,\n",
       "       0.        , 0.        , 0.        , 0.        , 0.        ,\n",
       "       0.        , 0.        , 0.        , 0.23137255, 0.97647059,\n",
       "       0.99607843, 0.24313725, 0.        , 0.        , 0.        ,\n",
       "       0.        , 0.        , 0.        , 0.        , 0.        ,\n",
       "       0.        , 0.        , 0.        , 0.        , 0.        ,\n",
       "       0.        , 0.        , 0.        , 0.        , 0.        ,\n",
       "       0.        , 0.        , 0.        , 0.        , 0.        ,\n",
       "       0.        , 0.52156863, 0.99607843, 0.73333333, 0.01960784,\n",
       "       0.        , 0.        , 0.        , 0.        , 0.        ,\n",
       "       0.        , 0.        , 0.        , 0.        , 0.        ,\n",
       "       0.        , 0.        , 0.        , 0.        , 0.        ,\n",
       "       0.        , 0.        , 0.        , 0.        , 0.        ,\n",
       "       0.        , 0.        , 0.        , 0.03529412, 0.80392157,\n",
       "       0.97254902, 0.22745098, 0.        , 0.        , 0.        ,\n",
       "       0.        , 0.        , 0.        , 0.        , 0.        ,\n",
       "       0.        , 0.        , 0.        , 0.        , 0.        ,\n",
       "       0.        , 0.        , 0.        , 0.        , 0.        ,\n",
       "       0.        , 0.        , 0.        , 0.        , 0.        ,\n",
       "       0.        , 0.49411765, 0.99607843, 0.71372549, 0.        ,\n",
       "       0.        , 0.        , 0.        , 0.        , 0.        ,\n",
       "       0.        , 0.        , 0.        , 0.        , 0.        ,\n",
       "       0.        , 0.        , 0.        , 0.        , 0.        ,\n",
       "       0.        , 0.        , 0.        , 0.        , 0.        ,\n",
       "       0.        , 0.        , 0.        , 0.29411765, 0.98431373,\n",
       "       0.94117647, 0.22352941, 0.        , 0.        , 0.        ,\n",
       "       0.        , 0.        , 0.        , 0.        , 0.        ,\n",
       "       0.        , 0.        , 0.        , 0.        , 0.        ,\n",
       "       0.        , 0.        , 0.        , 0.        , 0.        ,\n",
       "       0.        , 0.        , 0.        , 0.        , 0.        ,\n",
       "       0.0745098 , 0.86666667, 0.99607843, 0.65098039, 0.        ,\n",
       "       0.        , 0.        , 0.        , 0.        , 0.        ,\n",
       "       0.        , 0.        , 0.        , 0.        , 0.        ,\n",
       "       0.        , 0.        , 0.        , 0.        , 0.        ,\n",
       "       0.        , 0.        , 0.        , 0.        , 0.        ,\n",
       "       0.        , 0.        , 0.01176471, 0.79607843, 0.99607843,\n",
       "       0.85882353, 0.1372549 , 0.        , 0.        , 0.        ,\n",
       "       0.        , 0.        , 0.        , 0.        , 0.        ,\n",
       "       0.        , 0.        , 0.        , 0.        , 0.        ,\n",
       "       0.        , 0.        , 0.        , 0.        , 0.        ,\n",
       "       0.        , 0.        , 0.        , 0.        , 0.        ,\n",
       "       0.14901961, 0.99607843, 0.99607843, 0.30196078, 0.        ,\n",
       "       0.        , 0.        , 0.        , 0.        , 0.        ,\n",
       "       0.        , 0.        , 0.        , 0.        , 0.        ,\n",
       "       0.        , 0.        , 0.        , 0.        , 0.        ,\n",
       "       0.        , 0.        , 0.        , 0.        , 0.        ,\n",
       "       0.        , 0.        , 0.12156863, 0.87843137, 0.99607843,\n",
       "       0.45098039, 0.00392157, 0.        , 0.        , 0.        ,\n",
       "       0.        , 0.        , 0.        , 0.        , 0.        ,\n",
       "       0.        , 0.        , 0.        , 0.        , 0.        ,\n",
       "       0.        , 0.        , 0.        , 0.        , 0.        ,\n",
       "       0.        , 0.        , 0.        , 0.        , 0.        ,\n",
       "       0.52156863, 0.99607843, 0.99607843, 0.20392157, 0.        ,\n",
       "       0.        , 0.        , 0.        , 0.        , 0.        ,\n",
       "       0.        , 0.        , 0.        , 0.        , 0.        ,\n",
       "       0.        , 0.        , 0.        , 0.        , 0.        ,\n",
       "       0.        , 0.        , 0.        , 0.        , 0.        ,\n",
       "       0.        , 0.        , 0.23921569, 0.94901961, 0.99607843,\n",
       "       0.99607843, 0.20392157, 0.        , 0.        , 0.        ,\n",
       "       0.        , 0.        , 0.        , 0.        , 0.        ,\n",
       "       0.        , 0.        , 0.        , 0.        , 0.        ,\n",
       "       0.        , 0.        , 0.        , 0.        , 0.        ,\n",
       "       0.        , 0.        , 0.        , 0.        , 0.        ,\n",
       "       0.4745098 , 0.99607843, 0.99607843, 0.85882353, 0.15686275,\n",
       "       0.        , 0.        , 0.        , 0.        , 0.        ,\n",
       "       0.        , 0.        , 0.        , 0.        , 0.        ,\n",
       "       0.        , 0.        , 0.        , 0.        , 0.        ,\n",
       "       0.        , 0.        , 0.        , 0.        , 0.        ,\n",
       "       0.        , 0.        , 0.        , 0.4745098 , 0.99607843,\n",
       "       0.81176471, 0.07058824, 0.        , 0.        , 0.        ,\n",
       "       0.        , 0.        , 0.        , 0.        , 0.        ,\n",
       "       0.        , 0.        , 0.        , 0.        , 0.        ,\n",
       "       0.        , 0.        , 0.        , 0.        , 0.        ,\n",
       "       0.        , 0.        , 0.        , 0.        , 0.        ,\n",
       "       0.        , 0.        , 0.        , 0.        , 0.        ,\n",
       "       0.        , 0.        , 0.        , 0.        , 0.        ,\n",
       "       0.        , 0.        , 0.        , 0.        , 0.        ,\n",
       "       0.        , 0.        , 0.        , 0.        ])"
      ]
     },
     "execution_count": 10,
     "metadata": {},
     "output_type": "execute_result"
    }
   ],
   "source": [
    "data.x_test[0]"
   ]
  },
  {
   "cell_type": "markdown",
   "metadata": {},
   "source": [
    "## TensorFlow Graph\n",
    "\n",
    "The entire purpose of TensorFlow is to have a so-called computational graph that can be executed much more efficiently than if the same calculations were to be performed directly in Python. TensorFlow can be more efficient than NumPy because TensorFlow knows the entire computation graph that must be executed, while NumPy only knows the computation of a single mathematical operation at a time.\n",
    "\n",
    "TensorFlow can also automatically calculate the gradients that are needed to optimize the variables of the graph so as to make the model perform better. This is because the graph is a combination of simple mathematical expressions so the gradient of the entire graph can be calculated using the chain-rule for derivatives.\n",
    "\n",
    "TensorFlow can also take advantage of multi-core CPUs as well as GPUs - and Google has even built special chips just for TensorFlow which are called TPUs (Tensor Processing Units) that are even faster than GPUs.\n",
    "\n",
    "A TensorFlow graph consists of the following parts which will be detailed below:\n",
    "\n",
    "* Placeholder variables used to feed input into the graph.\n",
    "* Model variables that are going to be optimized so as to make the model perform better.\n",
    "* The model which is essentially just a mathematical function that calculates some output given the input in the placeholder variables and the model variables.\n",
    "* A cost measure that can be used to guide the optimization of the variables.\n",
    "* An optimization method which updates the variables of the model.\n",
    "\n",
    "In addition, the TensorFlow graph may also contain various debugging statements e.g. for logging data to be displayed using TensorBoard, which is not covered in this tutorial."
   ]
  },
  {
   "cell_type": "markdown",
   "metadata": {},
   "source": [
    "### Placeholder variables"
   ]
  },
  {
   "cell_type": "markdown",
   "metadata": {},
   "source": [
    "Placeholder variables serve as the input to the graph that we may change each time we execute the graph. We call this feeding the placeholder variables and it is demonstrated further below.\n",
    "\n",
    "First we define the placeholder variable for the input images. This allows us to change the images that are input to the TensorFlow graph. This is a so-called tensor, which just means that it is a multi-dimensional vector or matrix. The data-type is set to `float32` and the shape is set to `[None, img_size_flat]`, where `None` means that the tensor may hold an arbitrary number of images with each image being a vector of length `img_size_flat`."
   ]
  },
  {
   "cell_type": "code",
   "execution_count": 136,
   "metadata": {},
   "outputs": [],
   "source": [
    "x = tf.placeholder(tf.float32, [None, img_size_flat])"
   ]
  },
  {
   "cell_type": "markdown",
   "metadata": {},
   "source": [
    "Next we have the placeholder variable for the true labels associated with the images that were input in the placeholder variable `x`. The shape of this placeholder variable is `[None, num_classes]` which means it may hold an arbitrary number of labels and each label is a vector of length `num_classes` which is 10 in this case."
   ]
  },
  {
   "cell_type": "code",
   "execution_count": 137,
   "metadata": {},
   "outputs": [],
   "source": [
    "y_true = tf.placeholder(tf.float32, [None, num_classes])"
   ]
  },
  {
   "cell_type": "markdown",
   "metadata": {},
   "source": [
    "Finally we have the placeholder variable for the true class of each image in the placeholder variable `x`. These are integers and the dimensionality of this placeholder variable is set to `[None]` which means the placeholder variable is a one-dimensional vector of arbitrary length."
   ]
  },
  {
   "cell_type": "code",
   "execution_count": 138,
   "metadata": {},
   "outputs": [],
   "source": [
    "y_true_cls = tf.placeholder(tf.int64, [None])"
   ]
  },
  {
   "cell_type": "markdown",
   "metadata": {},
   "source": [
    "### Variables to be optimized"
   ]
  },
  {
   "cell_type": "markdown",
   "metadata": {},
   "source": [
    "Apart from the placeholder variables that were defined above and which serve as feeding input data into the model, there are also some model variables that must be changed by TensorFlow so as to make the model perform better on the training data.\n",
    "\n",
    "The first variable that must be optimized is called `weights` and is defined here as a TensorFlow variable that must be initialized with zeros and whose shape is `[img_size_flat, num_classes]`, so it is a 2-dimensional tensor (or matrix) with `img_size_flat` rows and `num_classes` columns."
   ]
  },
  {
   "cell_type": "code",
   "execution_count": 139,
   "metadata": {},
   "outputs": [
    {
     "data": {
      "text/plain": [
       "<tf.Variable 'Variable_12:0' shape=(784, 10) dtype=float32_ref>"
      ]
     },
     "execution_count": 139,
     "metadata": {},
     "output_type": "execute_result"
    }
   ],
   "source": [
    "weights = tf.Variable(tf.zeros([img_size_flat, num_classes]))\n",
    "weights"
   ]
  },
  {
   "cell_type": "markdown",
   "metadata": {},
   "source": [
    "The second variable that must be optimized is called `biases` and is defined as a 1-dimensional tensor (or vector) of length `num_classes`."
   ]
  },
  {
   "cell_type": "code",
   "execution_count": 140,
   "metadata": {},
   "outputs": [
    {
     "data": {
      "text/plain": [
       "<tf.Variable 'Variable_13:0' shape=(10,) dtype=float32_ref>"
      ]
     },
     "execution_count": 140,
     "metadata": {},
     "output_type": "execute_result"
    }
   ],
   "source": [
    "biases = tf.Variable(tf.zeros([num_classes]))\n",
    "biases"
   ]
  },
  {
   "cell_type": "markdown",
   "metadata": {},
   "source": [
    "### Model"
   ]
  },
  {
   "cell_type": "markdown",
   "metadata": {},
   "source": [
    "This simple mathematical model multiplies the images in the placeholder variable `x` with the `weights` and then adds the `biases`.\n",
    "\n",
    "The result is a matrix of shape `[num_images, num_classes]` because `x` has shape `[num_images, img_size_flat]` and `weights` has shape `[img_size_flat, num_classes]`, so the multiplication of those two matrices is a matrix with shape `[num_images, num_classes]` and then the `biases` vector is added to each row of that matrix.\n",
    "\n",
    "Note that the name `logits` is typical TensorFlow terminology, but other people may call the variable something else."
   ]
  },
  {
   "cell_type": "code",
   "execution_count": 141,
   "metadata": {},
   "outputs": [],
   "source": [
    "logits = tf.matmul(x, weights) + biases"
   ]
  },
  {
   "cell_type": "markdown",
   "metadata": {},
   "source": [
    "Now `logits` is a matrix with `num_images` rows and `num_classes` columns, where the element of the $i$'th row and $j$'th column is an estimate of how likely the $i$'th input image is to be of the $j$'th class.\n",
    "\n",
    "However, these estimates are a bit rough and difficult to interpret because the numbers may be very small or large, so we want to normalize them so that each row of the `logits` matrix sums to one, and each element is limited between zero and one. This is calculated using the so-called softmax function and the result is stored in `y_pred`."
   ]
  },
  {
   "cell_type": "code",
   "execution_count": 142,
   "metadata": {},
   "outputs": [],
   "source": [
    "y_pred = tf.nn.softmax(logits)"
   ]
  },
  {
   "cell_type": "markdown",
   "metadata": {},
   "source": [
    "The predicted class can be calculated from the `y_pred` matrix by taking the index of the largest element in each row."
   ]
  },
  {
   "cell_type": "code",
   "execution_count": 143,
   "metadata": {},
   "outputs": [],
   "source": [
    "y_pred_cls = tf.argmax(y_pred, axis=1)"
   ]
  },
  {
   "cell_type": "markdown",
   "metadata": {},
   "source": [
    "### Cost-function to be optimized"
   ]
  },
  {
   "cell_type": "markdown",
   "metadata": {},
   "source": [
    "To make the model better at classifying the input images, we must somehow change the variables for `weights` and `biases`. To do this we first need to know how well the model currently performs by comparing the predicted output of the model `y_pred` to the desired output `y_true`.\n",
    "\n",
    "The cross-entropy is a performance measure used in classification. The cross-entropy is a continuous function that is always positive and if the predicted output of the model exactly matches the desired output then the cross-entropy equals zero. The goal of optimization is therefore to minimize the cross-entropy so it gets as close to zero as possible by changing the `weights` and `biases` of the model.\n",
    "\n",
    "TensorFlow has a built-in function for calculating the cross-entropy. Note that it uses the values of the `logits` because it also calculates the softmax internally."
   ]
  },
  {
   "cell_type": "code",
   "execution_count": 144,
   "metadata": {},
   "outputs": [],
   "source": [
    "cross_entropy = tf.nn.softmax_cross_entropy_with_logits_v2(logits=logits,\n",
    "                                                           labels=y_true)"
   ]
  },
  {
   "cell_type": "markdown",
   "metadata": {},
   "source": [
    "We have now calculated the cross-entropy for each of the image classifications so we have a measure of how well the model performs on each image individually. But in order to use the cross-entropy to guide the optimization of the model's variables we need a single scalar value, so we simply take the average of the cross-entropy for all the image classifications."
   ]
  },
  {
   "cell_type": "code",
   "execution_count": 145,
   "metadata": {},
   "outputs": [],
   "source": [
    "cost = tf.reduce_mean(cross_entropy)"
   ]
  },
  {
   "cell_type": "markdown",
   "metadata": {},
   "source": [
    "### Optimization method"
   ]
  },
  {
   "cell_type": "markdown",
   "metadata": {},
   "source": [
    "Now that we have a cost measure that must be minimized, we can then create an optimizer. In this case it is the basic form of Gradient Descent where the step-size is set to 0.5.\n",
    "\n",
    "Note that optimization is not performed at this point. In fact, nothing is calculated at all, we just add the optimizer-object to the TensorFlow graph for later execution."
   ]
  },
  {
   "cell_type": "code",
   "execution_count": 146,
   "metadata": {},
   "outputs": [],
   "source": [
    "optimizer = tf.train.GradientDescentOptimizer(learning_rate=0.5).minimize(cost)"
   ]
  },
  {
   "cell_type": "markdown",
   "metadata": {},
   "source": [
    "### Performance measures"
   ]
  },
  {
   "cell_type": "markdown",
   "metadata": {},
   "source": [
    "We need a few more performance measures to display the progress to the user.\n",
    "\n",
    "This is a vector of booleans whether the predicted class equals the true class of each image."
   ]
  },
  {
   "cell_type": "code",
   "execution_count": 147,
   "metadata": {},
   "outputs": [],
   "source": [
    "correct_prediction = tf.equal(y_pred_cls, y_true_cls)"
   ]
  },
  {
   "cell_type": "markdown",
   "metadata": {},
   "source": [
    "This calculates the classification accuracy by first type-casting the vector of booleans to floats, so that False becomes 0 and True becomes 1, and then calculating the average of these numbers."
   ]
  },
  {
   "cell_type": "code",
   "execution_count": 148,
   "metadata": {},
   "outputs": [],
   "source": [
    "accuracy = tf.reduce_mean(tf.cast(correct_prediction, tf.float32))"
   ]
  },
  {
   "cell_type": "markdown",
   "metadata": {},
   "source": [
    "## TensorFlow Run"
   ]
  },
  {
   "cell_type": "markdown",
   "metadata": {},
   "source": [
    "### Create TensorFlow session\n",
    "\n",
    "Once the TensorFlow graph has been created, we have to create a TensorFlow session which is used to execute the graph."
   ]
  },
  {
   "cell_type": "code",
   "execution_count": 149,
   "metadata": {},
   "outputs": [],
   "source": [
    "session = tf.Session()"
   ]
  },
  {
   "cell_type": "markdown",
   "metadata": {},
   "source": [
    "### Initialize variables\n",
    "\n",
    "The variables for `weights` and `biases` must be initialized before we start optimizing them."
   ]
  },
  {
   "cell_type": "code",
   "execution_count": 150,
   "metadata": {},
   "outputs": [],
   "source": [
    "session.run(tf.global_variables_initializer())"
   ]
  },
  {
   "cell_type": "markdown",
   "metadata": {},
   "source": [
    "### Helper-function to perform optimization iterations"
   ]
  },
  {
   "cell_type": "markdown",
   "metadata": {},
   "source": [
    "There are 55.000 images in the training-set. It takes a long time to calculate the gradient of the model using all these images. We therefore use Stochastic Gradient Descent which only uses a small batch of images in each iteration of the optimizer."
   ]
  },
  {
   "cell_type": "code",
   "execution_count": 151,
   "metadata": {},
   "outputs": [],
   "source": [
    "batch_size = 100"
   ]
  },
  {
   "cell_type": "markdown",
   "metadata": {},
   "source": [
    "Function for performing a number of optimization iterations so as to gradually improve the `weights` and `biases` of the model. In each iteration, a new batch of data is selected from the training-set and then TensorFlow executes the optimizer using those training samples."
   ]
  },
  {
   "cell_type": "code",
   "execution_count": 152,
   "metadata": {},
   "outputs": [],
   "source": [
    "def optimize(num_iterations):\n",
    "    for i in range(num_iterations):\n",
    "        # Get a batch of training examples.\n",
    "        # x_batch now holds a batch of images and\n",
    "        # y_true_batch are the true labels for those images.\n",
    "        x_batch, y_true_batch, _ = data.random_batch(batch_size=batch_size)\n",
    "        \n",
    "        # Put the batch into a dict with the proper names\n",
    "        # for placeholder variables in the TensorFlow graph.\n",
    "        # Note that the placeholder for y_true_cls is not set\n",
    "        # because it is not used during training.\n",
    "        feed_dict_train = {x: x_batch,\n",
    "                           y_true: y_true_batch}\n",
    "\n",
    "        # Run the optimizer using this batch of training data.\n",
    "        # TensorFlow assigns the variables in feed_dict_train\n",
    "        # to the placeholder variables and then runs the optimizer.\n",
    "        session.run(optimizer, feed_dict=feed_dict_train)"
   ]
  },
  {
   "cell_type": "markdown",
   "metadata": {},
   "source": [
    "### Helper-functions to show performance"
   ]
  },
  {
   "cell_type": "markdown",
   "metadata": {},
   "source": [
    "Dict with the test-set data to be used as input to the TensorFlow graph. Note that we must use the correct names for the placeholder variables in the TensorFlow graph."
   ]
  },
  {
   "cell_type": "code",
   "execution_count": 153,
   "metadata": {},
   "outputs": [],
   "source": [
    "feed_dict_test = {x: data.x_test,\n",
    "                  y_true: data.y_test,\n",
    "                  y_true_cls: data.y_test_cls}"
   ]
  },
  {
   "cell_type": "markdown",
   "metadata": {},
   "source": [
    "Function for printing the classification accuracy on the test-set."
   ]
  },
  {
   "cell_type": "code",
   "execution_count": 154,
   "metadata": {},
   "outputs": [],
   "source": [
    "def print_accuracy():\n",
    "    # Use TensorFlow to compute the accuracy.\n",
    "    acc = session.run(accuracy, feed_dict=feed_dict_test)\n",
    "    \n",
    "    # Print the accuracy.\n",
    "    print(\"Accuracy on test-set: {0:.1%}\".format(acc))"
   ]
  },
  {
   "cell_type": "markdown",
   "metadata": {},
   "source": [
    "Function for printing and plotting the confusion matrix using scikit-learn."
   ]
  },
  {
   "cell_type": "code",
   "execution_count": 155,
   "metadata": {},
   "outputs": [],
   "source": [
    "def print_confusion_matrix():\n",
    "    # Get the true classifications for the test-set.\n",
    "    cls_true = data.y_test_cls\n",
    "    \n",
    "    # Get the predicted classifications for the test-set.\n",
    "    cls_pred = session.run(y_pred_cls, feed_dict=feed_dict_test)\n",
    "\n",
    "    # Get the confusion matrix using sklearn.\n",
    "    cm = confusion_matrix(y_true=cls_true,\n",
    "                          y_pred=cls_pred)\n",
    "\n",
    "    # Print the confusion matrix as text.\n",
    "    print(cm)\n",
    "\n",
    "    # Plot the confusion matrix as an image.\n",
    "    plt.imshow(cm, interpolation='nearest', cmap=plt.cm.Blues)\n",
    "\n",
    "    # Make various adjustments to the plot.\n",
    "    plt.tight_layout()\n",
    "    plt.colorbar()\n",
    "    tick_marks = np.arange(num_classes)\n",
    "    plt.xticks(tick_marks, range(num_classes))\n",
    "    plt.yticks(tick_marks, range(num_classes))\n",
    "    plt.xlabel('Predicted')\n",
    "    plt.ylabel('True')\n",
    "    \n",
    "    # Ensure the plot is shown correctly with multiple plots\n",
    "    # in a single Notebook cell.\n",
    "    plt.show()"
   ]
  },
  {
   "cell_type": "markdown",
   "metadata": {},
   "source": [
    "Function for plotting examples of images from the test-set that have been mis-classified."
   ]
  },
  {
   "cell_type": "code",
   "execution_count": 156,
   "metadata": {},
   "outputs": [],
   "source": [
    "def plot_example_errors():\n",
    "    # Use TensorFlow to get a list of boolean values\n",
    "    # whether each test-image has been correctly classified,\n",
    "    # and a list for the predicted class of each image.\n",
    "    correct, cls_pred = session.run([correct_prediction, y_pred_cls],\n",
    "                                    feed_dict=feed_dict_test)\n",
    "\n",
    "    # Negate the boolean array.\n",
    "    incorrect = (correct == False)\n",
    "    \n",
    "    # Get the images from the test-set that have been\n",
    "    # incorrectly classified.\n",
    "    images = data.x_test[incorrect]\n",
    "    \n",
    "    # Get the predicted classes for those images.\n",
    "    cls_pred = cls_pred[incorrect]\n",
    "\n",
    "    # Get the true classes for those images.\n",
    "    cls_true = data.y_test_cls[incorrect]\n",
    "    \n",
    "    # Plot the first 9 images.\n",
    "    plot_images(images=images[0:9],\n",
    "                cls_true=cls_true[0:9],\n",
    "                cls_pred=cls_pred[0:9])"
   ]
  },
  {
   "cell_type": "markdown",
   "metadata": {},
   "source": [
    "### Helper-function to plot the model weights"
   ]
  },
  {
   "cell_type": "markdown",
   "metadata": {},
   "source": [
    "Function for plotting the `weights` of the model. 10 images are plotted, one for each digit that the model is trained to recognize."
   ]
  },
  {
   "cell_type": "code",
   "execution_count": 157,
   "metadata": {},
   "outputs": [],
   "source": [
    "def plot_weights(weights):\n",
    "    # Get the values for the weights from the TensorFlow variable.\n",
    "    w = session.run(weights)\n",
    "    \n",
    "    # Get the lowest and highest values for the weights.\n",
    "    # This is used to correct the colour intensity across\n",
    "    # the images so they can be compared with each other.\n",
    "    w_min = np.min(w)\n",
    "    w_max = np.max(w)\n",
    "\n",
    "    # Create figure with 3x4 sub-plots,\n",
    "    # where the last 2 sub-plots are unused.\n",
    "    fig, axes = plt.subplots(3, 4)\n",
    "    fig.subplots_adjust(hspace=0.3, wspace=0.3)\n",
    "\n",
    "    for i, ax in enumerate(axes.flat):\n",
    "        # Only use the weights for the first 10 sub-plots.\n",
    "        if i<10:\n",
    "            # Get the weights for the i'th digit and reshape it.\n",
    "            # Note that w.shape == (img_size_flat, 10)\n",
    "            image = w[:, i].reshape(img_shape)\n",
    "\n",
    "            # Set the label for the sub-plot.\n",
    "            ax.set_xlabel(\"Weights: {0}\".format(i))\n",
    "\n",
    "            # Plot the image.\n",
    "            ax.imshow(image, vmin=w_min, vmax=w_max, cmap='seismic')\n",
    "\n",
    "        # Remove ticks from each sub-plot.\n",
    "        ax.set_xticks([])\n",
    "        ax.set_yticks([])\n",
    "        \n",
    "    # Ensure the plot is shown correctly with multiple plots\n",
    "    # in a single Notebook cell.\n",
    "    plt.show()"
   ]
  },
  {
   "cell_type": "markdown",
   "metadata": {},
   "source": [
    "## Performance before any optimization\n",
    "\n",
    "The accuracy on the test-set is 9.8%. This is because the model has only been initialized and not optimized at all, so it always predicts that the image shows a zero digit, as demonstrated in the plot below, and it turns out that 9.8% of the images in the test-set happens to be zero digits."
   ]
  },
  {
   "cell_type": "code",
   "execution_count": 33,
   "metadata": {},
   "outputs": [
    {
     "name": "stdout",
     "output_type": "stream",
     "text": [
      "Accuracy on test-set: 9.8%\n"
     ]
    }
   ],
   "source": [
    "print_accuracy()"
   ]
  },
  {
   "cell_type": "code",
   "execution_count": 34,
   "metadata": {},
   "outputs": [
    {
     "data": {
      "image/png": "[encoded data removed]",
      "text/plain": [
       "<Figure size 432x288 with 9 Axes>"
      ]
     },
     "metadata": {},
     "output_type": "display_data"
    }
   ],
   "source": [
    "plot_example_errors()"
   ]
  },
  {
   "cell_type": "markdown",
   "metadata": {},
   "source": [
    "## Performance after 1 optimization iteration\n",
    "\n",
    "Already after a single optimization iteration, the model has increased its accuracy on the test-set significantly."
   ]
  },
  {
   "cell_type": "code",
   "execution_count": 35,
   "metadata": {},
   "outputs": [],
   "source": [
    "optimize(num_iterations=1)"
   ]
  },
  {
   "cell_type": "code",
   "execution_count": 36,
   "metadata": {},
   "outputs": [
    {
     "name": "stdout",
     "output_type": "stream",
     "text": [
      "Accuracy on test-set: 36.4%\n"
     ]
    }
   ],
   "source": [
    "print_accuracy()"
   ]
  },
  {
   "cell_type": "code",
   "execution_count": 37,
   "metadata": {},
   "outputs": [
    {
     "data": {
      "image/png": "[encoded data removed]",
      "text/plain": [
       "<Figure size 432x288 with 9 Axes>"
      ]
     },
     "metadata": {},
     "output_type": "display_data"
    }
   ],
   "source": [
    "plot_example_errors()"
   ]
  },
  {
   "cell_type": "markdown",
   "metadata": {},
   "source": [
    "The weights can also be plotted as shown below. Positive weights are red and negative weights are blue. These weights can be intuitively understood as image-filters.\n",
    "\n",
    "For example, the weights used to determine if an image shows a zero-digit have a positive reaction (red) to an image of a circle, and  have a negative reaction (blue) to images with content in the centre of the circle.\n",
    "\n",
    "Similarly, the weights used to determine if an image shows a one-digit react positively (red) to a vertical line in the centre of the image, and react negatively (blue) to images with content surrounding that line.\n",
    "\n",
    "Note that the weights mostly look like the digits they're supposed to recognize. This is because only one optimization iteration has been performed so the weights are only trained on 100 images. After training on several thousand images, the weights become more difficult to interpret because they have to recognize many variations of how digits can be written."
   ]
  },
  {
   "cell_type": "code",
   "execution_count": 39,
   "metadata": {},
   "outputs": [
    {
     "data": {
      "image/png": "[encoded data removed]",
      "text/plain": [
       "<Figure size 432x288 with 12 Axes>"
      ]
     },
     "metadata": {},
     "output_type": "display_data"
    }
   ],
   "source": [
    "plot_weights(weights)"
   ]
  },
  {
   "cell_type": "markdown",
   "metadata": {},
   "source": [
    "## Performance after 10 optimization iterations"
   ]
  },
  {
   "cell_type": "code",
   "execution_count": 40,
   "metadata": {},
   "outputs": [],
   "source": [
    "# We have already performed 1 iteration.\n",
    "optimize(num_iterations=9)"
   ]
  },
  {
   "cell_type": "code",
   "execution_count": 41,
   "metadata": {},
   "outputs": [
    {
     "name": "stdout",
     "output_type": "stream",
     "text": [
      "Accuracy on test-set: 81.4%\n"
     ]
    }
   ],
   "source": [
    "print_accuracy()"
   ]
  },
  {
   "cell_type": "code",
   "execution_count": 42,
   "metadata": {},
   "outputs": [
    {
     "data": {
      "image/png": "[encoded data removed]",
      "text/plain": [
       "<Figure size 432x288 with 9 Axes>"
      ]
     },
     "metadata": {},
     "output_type": "display_data"
    }
   ],
   "source": [
    "plot_example_errors()"
   ]
  },
  {
   "cell_type": "code",
   "execution_count": 43,
   "metadata": {},
   "outputs": [
    {
     "data": {
      "image/png": "[encoded data removed]",
      "text/plain": [
       "<Figure size 432x288 with 12 Axes>"
      ]
     },
     "metadata": {},
     "output_type": "display_data"
    }
   ],
   "source": [
    "plot_weights(weights)"
   ]
  },
  {
   "cell_type": "code",
   "execution_count": 44,
   "metadata": {},
   "outputs": [],
   "source": [
    "w = session.run(weights)"
   ]
  },
  {
   "cell_type": "code",
   "execution_count": 45,
   "metadata": {},
   "outputs": [
    {
     "data": {
      "text/plain": [
       "array([[0., 0., 0., ..., 0., 0., 0.],\n",
       "       [0., 0., 0., ..., 0., 0., 0.],\n",
       "       [0., 0., 0., ..., 0., 0., 0.],\n",
       "       ...,\n",
       "       [0., 0., 0., ..., 0., 0., 0.],\n",
       "       [0., 0., 0., ..., 0., 0., 0.],\n",
       "       [0., 0., 0., ..., 0., 0., 0.]], dtype=float32)"
      ]
     },
     "execution_count": 45,
     "metadata": {},
     "output_type": "execute_result"
    }
   ],
   "source": [
    "w"
   ]
  },
  {
   "cell_type": "code",
   "execution_count": 46,
   "metadata": {},
   "outputs": [],
   "source": [
    "w7= w[:, 7]"
   ]
  },
  {
   "cell_type": "code",
   "execution_count": 47,
   "metadata": {},
   "outputs": [
    {
     "data": {
      "text/plain": [
       "array([ 0.00000000e+00,  0.00000000e+00,  0.00000000e+00,  0.00000000e+00,\n",
       "        0.00000000e+00,  0.00000000e+00,  0.00000000e+00,  0.00000000e+00,\n",
       "        0.00000000e+00,  0.00000000e+00,  0.00000000e+00,  0.00000000e+00,\n",
       "        0.00000000e+00,  0.00000000e+00,  0.00000000e+00,  0.00000000e+00,\n",
       "        0.00000000e+00,  0.00000000e+00,  0.00000000e+00,  0.00000000e+00,\n",
       "        0.00000000e+00,  0.00000000e+00,  0.00000000e+00,  0.00000000e+00,\n",
       "        0.00000000e+00,  0.00000000e+00,  0.00000000e+00,  0.00000000e+00,\n",
       "        0.00000000e+00,  0.00000000e+00,  0.00000000e+00,  0.00000000e+00,\n",
       "        0.00000000e+00,  0.00000000e+00,  0.00000000e+00,  0.00000000e+00,\n",
       "        0.00000000e+00, -2.50980433e-04, -4.64705896e-04, -1.85115030e-04,\n",
       "       -6.57989993e-04, -4.99609101e-04, -8.86838388e-05, -8.54159152e-05,\n",
       "       -7.22900368e-05, -4.29755746e-05, -2.27685177e-06,  0.00000000e+00,\n",
       "        0.00000000e+00,  0.00000000e+00,  0.00000000e+00,  0.00000000e+00,\n",
       "        0.00000000e+00,  0.00000000e+00,  0.00000000e+00,  0.00000000e+00,\n",
       "        0.00000000e+00,  0.00000000e+00,  0.00000000e+00,  0.00000000e+00,\n",
       "        0.00000000e+00,  0.00000000e+00,  0.00000000e+00,  0.00000000e+00,\n",
       "        0.00000000e+00, -3.15686309e-04, -7.98039255e-04, -1.08746090e-03,\n",
       "       -1.34642923e-03, -2.19218805e-03, -2.20425893e-03, -1.31579523e-03,\n",
       "       -1.51444983e-03, -1.70698902e-03, -2.67910329e-03, -1.76229200e-03,\n",
       "       -5.95734455e-04, -3.25443456e-04, -1.84597866e-05,  0.00000000e+00,\n",
       "        0.00000000e+00,  0.00000000e+00,  0.00000000e+00,  0.00000000e+00,\n",
       "        0.00000000e+00,  0.00000000e+00,  0.00000000e+00,  0.00000000e+00,\n",
       "        0.00000000e+00,  0.00000000e+00, -9.70858819e-05, -2.96526938e-04,\n",
       "       -7.71762920e-04, -1.24606339e-03, -2.66547408e-03, -5.24877571e-03,\n",
       "       -7.22034695e-03, -8.55322275e-03, -7.95121398e-03, -7.63614150e-03,\n",
       "       -8.60588066e-03, -8.48680362e-03, -6.75416132e-03, -4.87231370e-03,\n",
       "       -2.00893125e-03, -1.50984828e-03, -4.40826290e-04, -1.06308471e-04,\n",
       "        0.00000000e+00,  0.00000000e+00,  0.00000000e+00,  0.00000000e+00,\n",
       "        0.00000000e+00,  0.00000000e+00,  0.00000000e+00, -7.52591295e-05,\n",
       "       -1.77543174e-04, -8.92211858e-04, -1.94210291e-03, -3.22912866e-03,\n",
       "       -5.92360506e-03, -8.92338622e-03, -1.42046269e-02, -1.92087982e-02,\n",
       "       -2.50183195e-02, -2.83815600e-02, -3.25255133e-02, -3.63783985e-02,\n",
       "       -3.77382375e-02, -3.20631415e-02, -2.48284992e-02, -1.61332823e-02,\n",
       "       -1.20348986e-02, -7.37593230e-03, -2.30039679e-03, -1.33733451e-03,\n",
       "       -5.65021299e-04, -3.36141857e-05,  0.00000000e+00,  0.00000000e+00,\n",
       "        0.00000000e+00,  0.00000000e+00,  0.00000000e+00, -3.73336188e-05,\n",
       "       -5.83465095e-04, -1.74535438e-03, -4.48358152e-03, -7.80137582e-03,\n",
       "       -1.20626381e-02, -2.01376565e-02, -3.03730909e-02, -3.94498482e-02,\n",
       "       -5.06820194e-02, -6.18107356e-02, -7.53800422e-02, -8.55576172e-02,\n",
       "       -8.59511271e-02, -7.71235377e-02, -6.08030781e-02, -4.64622751e-02,\n",
       "       -3.43619734e-02, -1.91055611e-02, -9.61392373e-03, -6.79305661e-03,\n",
       "       -3.21758050e-03, -6.95263967e-04,  0.00000000e+00,  0.00000000e+00,\n",
       "        0.00000000e+00,  0.00000000e+00,  0.00000000e+00, -2.90238793e-04,\n",
       "       -7.02661404e-04, -9.28351423e-04,  2.10109144e-03,  6.48621656e-03,\n",
       "       -3.42209265e-03, -1.28580108e-02, -1.50898388e-02, -2.40105446e-02,\n",
       "       -3.50713618e-02, -5.75340837e-02, -7.63352290e-02, -8.15629587e-02,\n",
       "       -7.34709352e-02, -6.77257255e-02, -5.49531989e-02, -3.78236026e-02,\n",
       "       -4.03587334e-02, -2.70721931e-02, -1.15508800e-02, -1.08329337e-02,\n",
       "       -5.52262412e-03, -1.16809970e-03, -2.68379314e-04,  0.00000000e+00,\n",
       "        0.00000000e+00,  0.00000000e+00,  2.40294612e-03,  5.87824546e-03,\n",
       "        8.98865983e-03,  1.91299245e-02,  3.32306288e-02,  4.87027355e-02,\n",
       "        4.95612212e-02,  5.20015098e-02,  4.91492078e-02,  3.28918882e-02,\n",
       "        7.77041959e-03, -4.82805911e-03, -1.72157250e-02, -2.18894705e-02,\n",
       "       -7.39350263e-03,  1.13098975e-03, -5.89421485e-04, -1.01757664e-02,\n",
       "       -9.27603990e-03, -1.46551989e-02, -6.44383673e-03, -5.74992783e-03,\n",
       "       -5.02032507e-03, -2.42712419e-03, -1.59552175e-04,  0.00000000e+00,\n",
       "        0.00000000e+00,  0.00000000e+00,  4.39626351e-03,  1.52085796e-02,\n",
       "        2.46067047e-02,  4.27514836e-02,  5.73109649e-02,  8.18459243e-02,\n",
       "        8.97672549e-02,  9.08393189e-02,  7.77602643e-02,  6.96674585e-02,\n",
       "        5.99378534e-02,  5.37855700e-02,  5.56945242e-02,  5.69851249e-02,\n",
       "        5.70130199e-02,  6.49507195e-02,  5.96705973e-02,  2.89787017e-02,\n",
       "        1.71744991e-02,  6.47144811e-03,  5.50330291e-03,  3.72875645e-03,\n",
       "       -2.00247136e-03, -2.53149704e-03, -1.56972604e-03, -2.26918302e-04,\n",
       "        0.00000000e+00,  0.00000000e+00,  2.34156661e-03,  2.15159897e-02,\n",
       "        3.38172019e-02,  5.44060245e-02,  7.10643977e-02,  8.59949291e-02,\n",
       "        9.22194645e-02,  8.59484896e-02,  6.82682246e-02,  5.31266034e-02,\n",
       "        5.21135256e-02,  7.37689063e-02,  9.04411301e-02,  1.10644922e-01,\n",
       "        1.08717926e-01,  1.08291939e-01,  9.43510905e-02,  7.24905133e-02,\n",
       "        5.82758710e-02,  3.78824547e-02,  2.38330979e-02,  5.05742617e-03,\n",
       "        3.31857649e-04, -2.11546826e-03, -1.58197200e-03, -1.46524384e-04,\n",
       "        0.00000000e+00,  0.00000000e+00,  0.00000000e+00,  1.37699805e-02,\n",
       "        2.80646961e-02,  5.16211055e-02,  6.53410256e-02,  7.21409768e-02,\n",
       "        7.05696568e-02,  4.93630357e-02,  4.56133857e-02,  4.55233157e-02,\n",
       "        5.59706055e-02,  6.41820207e-02,  6.94733486e-02,  7.07564503e-02,\n",
       "        8.66451859e-02,  9.01979804e-02,  1.03328958e-01,  9.28490162e-02,\n",
       "        7.29291365e-02,  4.68923002e-02,  2.10978929e-02,  6.99736178e-03,\n",
       "       -4.06961935e-03, -2.39354908e-03, -7.19278120e-04,  0.00000000e+00,\n",
       "        0.00000000e+00,  0.00000000e+00,  0.00000000e+00,  2.31316593e-03,\n",
       "        1.28276683e-02,  3.15038823e-02,  5.41997738e-02,  5.21796681e-02,\n",
       "        3.31714936e-02,  4.35821014e-03, -2.16033403e-03,  9.85173509e-03,\n",
       "        2.16613468e-02,  2.47201417e-02,  2.84704007e-02,  2.82913968e-02,\n",
       "        5.74002862e-02,  6.99600726e-02,  9.74904001e-02,  7.88362920e-02,\n",
       "        7.26010650e-02,  4.03842665e-02,  1.16310176e-02, -1.22091128e-03,\n",
       "       -3.55205243e-03, -1.22720969e-03, -2.39343237e-04,  0.00000000e+00,\n",
       "        0.00000000e+00,  0.00000000e+00,  0.00000000e+00, -6.87882944e-04,\n",
       "        9.28809587e-03,  3.60144861e-02,  4.53128815e-02,  3.35056968e-02,\n",
       "        3.75179388e-03, -2.15941463e-02, -3.15423720e-02, -3.80067378e-02,\n",
       "       -3.53376456e-02, -4.10150066e-02, -4.14481685e-02, -1.80654526e-02,\n",
       "        2.15570256e-02,  5.35749346e-02,  7.50889629e-02,  6.11079223e-02,\n",
       "        5.88547513e-02,  1.84638537e-02,  1.66855427e-03, -5.09425765e-03,\n",
       "       -3.45461513e-03, -9.21512546e-04, -2.46941436e-05,  0.00000000e+00,\n",
       "        0.00000000e+00,  0.00000000e+00, -9.86900195e-05, -7.57858797e-04,\n",
       "        1.12694940e-02,  3.55553888e-02,  4.19967882e-02,  1.28256939e-02,\n",
       "       -1.85256284e-02, -5.26513159e-02, -7.91094229e-02, -7.31467828e-02,\n",
       "       -7.81628042e-02, -9.55989808e-02, -8.65245536e-02, -4.45494130e-02,\n",
       "        2.30277851e-02,  4.93906811e-02,  6.03638589e-02,  4.91438657e-02,\n",
       "        4.02522907e-02,  2.88644806e-04, -4.19935398e-03, -8.35172273e-03,\n",
       "       -2.81619397e-03, -1.92393010e-04,  0.00000000e+00,  0.00000000e+00,\n",
       "        0.00000000e+00,  0.00000000e+00,  0.00000000e+00, -9.75348172e-04,\n",
       "        7.19129341e-03,  3.12543809e-02,  2.77428832e-02, -3.69532499e-03,\n",
       "       -3.93495746e-02, -8.37126002e-02, -9.96116549e-02, -9.51644704e-02,\n",
       "       -1.01740070e-01, -1.15149900e-01, -9.28757712e-02, -2.69751549e-02,\n",
       "        4.65818755e-02,  6.01781942e-02,  5.35886399e-02,  4.25900556e-02,\n",
       "        1.59954168e-02, -9.26789548e-03, -9.85487923e-03, -9.48405918e-03,\n",
       "       -2.63650273e-03, -1.83874872e-04,  0.00000000e+00,  0.00000000e+00,\n",
       "        0.00000000e+00,  0.00000000e+00, -2.19020905e-04, -9.23757791e-04,\n",
       "        1.05968248e-02,  1.96956955e-02,  1.20710330e-02, -1.87192392e-02,\n",
       "       -5.31834960e-02, -6.43288493e-02, -8.08583423e-02, -9.08818692e-02,\n",
       "       -1.07376195e-01, -1.04796059e-01, -5.86744174e-02,  1.75417941e-02,\n",
       "        6.37226552e-02,  5.65980710e-02,  4.38386612e-02,  2.89183408e-02,\n",
       "       -2.92893080e-03, -1.47111062e-02, -1.67147778e-02, -1.08405482e-02,\n",
       "       -4.20163665e-03, -1.13379862e-03, -1.56158305e-04, -2.47828139e-05,\n",
       "        0.00000000e+00,  0.00000000e+00,  0.00000000e+00, -2.96690734e-04,\n",
       "        1.30992858e-02,  4.42180503e-03, -4.63221502e-03, -2.69444287e-02,\n",
       "       -4.78044562e-02, -5.88390417e-02, -7.73815736e-02, -8.44058022e-02,\n",
       "       -8.34449902e-02, -6.67938218e-02, -9.36485920e-03,  4.31296825e-02,\n",
       "        4.97263782e-02,  4.33743186e-02,  2.79323403e-02,  3.05858487e-03,\n",
       "       -1.73058361e-02, -1.96187794e-02, -1.64592154e-02, -1.07171685e-02,\n",
       "       -4.91685187e-03, -1.33340235e-03, -7.91583734e-04, -6.99525917e-05,\n",
       "        0.00000000e+00,  0.00000000e+00,  0.00000000e+00, -4.36251430e-04,\n",
       "        1.05865244e-02, -3.30146682e-03, -1.49840107e-02, -2.40243245e-02,\n",
       "       -4.77590412e-02, -5.30940630e-02, -6.99037164e-02, -6.71717450e-02,\n",
       "       -4.71704267e-02, -7.54379528e-03,  3.64658535e-02,  5.67354560e-02,\n",
       "        3.96653526e-02,  3.29506695e-02,  5.14371786e-03, -1.03433579e-02,\n",
       "       -2.05399841e-02, -1.75988078e-02, -1.28426207e-02, -7.82010425e-03,\n",
       "       -4.66519315e-03, -1.53520610e-03, -8.07247590e-04, -3.41527993e-05,\n",
       "        0.00000000e+00,  0.00000000e+00,  0.00000000e+00, -2.20754324e-03,\n",
       "       -2.61598104e-03, -1.41676348e-02, -2.74858195e-02, -3.71037759e-02,\n",
       "       -4.31452580e-02, -5.11988737e-02, -6.41330928e-02, -4.62058932e-02,\n",
       "       -1.51984543e-02,  3.09754126e-02,  4.25936282e-02,  4.05830219e-02,\n",
       "        2.00245306e-02,  1.85498465e-02, -1.77806206e-02, -2.83721946e-02,\n",
       "       -3.02629918e-02, -2.24847961e-02, -1.28351711e-02, -6.25630887e-03,\n",
       "       -3.04564158e-03, -1.28496822e-03, -2.37432032e-04, -7.84313852e-06,\n",
       "        0.00000000e+00,  0.00000000e+00, -2.06033699e-04, -2.31694616e-03,\n",
       "       -7.39390496e-03, -1.64897721e-02, -3.17375250e-02, -4.52516563e-02,\n",
       "       -5.20695075e-02, -6.12193570e-02, -5.46403602e-02, -2.55231075e-02,\n",
       "        2.20730789e-02,  4.97840755e-02,  3.66515256e-02,  1.67636722e-02,\n",
       "        1.15583315e-02, -3.00846854e-03, -3.01707517e-02, -3.47349197e-02,\n",
       "       -3.59648094e-02, -2.20987443e-02, -1.37593998e-02, -7.46700075e-03,\n",
       "       -1.72561943e-03, -8.62157089e-04,  0.00000000e+00,  0.00000000e+00,\n",
       "        0.00000000e+00,  0.00000000e+00, -2.15387379e-04, -2.31947936e-03,\n",
       "       -8.19692109e-03, -1.68443676e-02, -2.99753249e-02, -4.82840799e-02,\n",
       "       -6.29062951e-02, -7.16757849e-02, -4.59755175e-02, -9.50612314e-03,\n",
       "        2.89409421e-02,  2.92915739e-02,  7.47774355e-03,  8.97560921e-03,\n",
       "        1.14349015e-02, -1.27944043e-02, -3.90864387e-02, -3.97919156e-02,\n",
       "       -3.45489718e-02, -1.97787676e-02, -1.30086709e-02, -8.45845323e-03,\n",
       "       -1.13781798e-03, -4.20708326e-04,  0.00000000e+00,  0.00000000e+00,\n",
       "        0.00000000e+00, -5.73820471e-05, -8.89816147e-05, -1.44306535e-03,\n",
       "       -4.89564333e-03, -1.47866290e-02, -2.80812439e-02, -4.60149124e-02,\n",
       "       -6.22607172e-02, -6.73757717e-02, -3.00753135e-02, -3.06922011e-03,\n",
       "        1.03504229e-02,  2.66578235e-03, -2.14977395e-02,  5.56113850e-03,\n",
       "        9.00756195e-03, -2.21817493e-02, -3.75787504e-02, -4.38031927e-02,\n",
       "       -2.70753782e-02, -1.18032210e-02, -9.55707021e-03, -6.81415061e-03,\n",
       "       -1.77826011e-03,  0.00000000e+00,  0.00000000e+00,  0.00000000e+00,\n",
       "        0.00000000e+00,  0.00000000e+00, -1.92717544e-05, -7.96648208e-04,\n",
       "       -2.39409134e-03, -9.44303907e-03, -2.00382248e-02, -3.20555419e-02,\n",
       "       -4.72234599e-02, -2.88898498e-02, -1.86454132e-03,  5.05118584e-03,\n",
       "        3.02373432e-03, -6.52362220e-03, -6.02875883e-03,  8.24350119e-03,\n",
       "        6.34315517e-03, -1.68084819e-02, -2.59522982e-02, -2.71706637e-02,\n",
       "       -1.61561631e-02, -3.26452055e-03, -3.57875740e-03, -4.37553832e-03,\n",
       "       -2.28062412e-03,  0.00000000e+00,  0.00000000e+00,  0.00000000e+00,\n",
       "        0.00000000e+00,  0.00000000e+00,  0.00000000e+00, -4.83018113e-04,\n",
       "       -1.83827477e-03, -3.97443026e-03, -7.02173123e-03, -8.60014465e-03,\n",
       "       -4.05938365e-03,  1.91677809e-02,  2.31961329e-02,  2.82269679e-02,\n",
       "        2.59439331e-02,  1.11720646e-02,  1.32828467e-02,  2.29437109e-02,\n",
       "        1.57871600e-02, -2.20002909e-03, -4.35030460e-03, -1.42929181e-02,\n",
       "       -9.10382345e-03, -2.81495391e-04, -2.67041847e-04, -1.85153622e-03,\n",
       "       -3.29600647e-04, -1.88991689e-04,  0.00000000e+00,  0.00000000e+00,\n",
       "        0.00000000e+00,  0.00000000e+00,  0.00000000e+00, -1.09585184e-04,\n",
       "       -8.95272708e-04, -2.02278141e-03,  4.39061970e-03,  1.05310716e-02,\n",
       "        2.64209062e-02,  5.45661822e-02,  6.06492870e-02,  6.87961876e-02,\n",
       "        5.99610955e-02,  5.02061583e-02,  4.99454439e-02,  4.93680313e-02,\n",
       "        3.65935639e-02,  1.64529495e-02,  4.20177169e-03, -4.54756850e-03,\n",
       "       -7.47904927e-03, -5.54699975e-04,  2.12422688e-03, -3.85939231e-04,\n",
       "        0.00000000e+00,  0.00000000e+00,  0.00000000e+00,  0.00000000e+00,\n",
       "        0.00000000e+00,  0.00000000e+00,  0.00000000e+00,  0.00000000e+00,\n",
       "       -1.80457981e-04,  1.20547996e-03,  7.44843856e-03,  1.71876960e-02,\n",
       "        2.88424082e-02,  5.17888740e-02,  6.78751543e-02,  8.30224529e-02,\n",
       "        8.25012103e-02,  6.64485618e-02,  6.21269867e-02,  5.85683174e-02,\n",
       "        3.40039805e-02,  2.10509133e-02,  8.64009000e-03,  4.26696904e-04,\n",
       "       -4.34663426e-03, -1.22093572e-03,  3.30293272e-03,  9.16540565e-04,\n",
       "        0.00000000e+00,  0.00000000e+00,  0.00000000e+00,  0.00000000e+00,\n",
       "        0.00000000e+00,  0.00000000e+00,  0.00000000e+00,  0.00000000e+00,\n",
       "        0.00000000e+00,  6.68763896e-05,  2.37873779e-03,  6.13857200e-03,\n",
       "        8.85022059e-03,  1.63790137e-02,  1.47993546e-02,  2.26472542e-02,\n",
       "        3.62369232e-02,  4.06669229e-02,  3.80572006e-02,  3.12388521e-02,\n",
       "        1.91731546e-02,  1.82269271e-02,  1.10800425e-02,  2.64691398e-03,\n",
       "       -9.76767158e-04,  2.62277841e-04,  3.76964267e-03,  9.16540565e-04,\n",
       "        0.00000000e+00,  0.00000000e+00,  0.00000000e+00,  0.00000000e+00,\n",
       "        0.00000000e+00,  0.00000000e+00,  0.00000000e+00,  0.00000000e+00,\n",
       "        0.00000000e+00,  1.97285344e-03,  2.25150515e-03,  2.11775245e-04,\n",
       "        0.00000000e+00,  0.00000000e+00,  1.76470585e-05,  1.65882346e-03,\n",
       "        1.92561303e-03,  6.85473299e-03,  7.61591364e-03,  4.60120430e-03,\n",
       "        3.94104468e-03,  3.93896643e-03,  4.20364027e-04,  0.00000000e+00,\n",
       "        0.00000000e+00,  6.35665259e-04,  3.60703073e-03,  9.16540565e-04,\n",
       "        0.00000000e+00,  0.00000000e+00,  0.00000000e+00,  0.00000000e+00],\n",
       "      dtype=float32)"
      ]
     },
     "execution_count": 47,
     "metadata": {},
     "output_type": "execute_result"
    }
   ],
   "source": [
    "w7"
   ]
  },
  {
   "cell_type": "code",
   "execution_count": 48,
   "metadata": {},
   "outputs": [],
   "source": [
    "image = w7.reshape(-1, 28)"
   ]
  },
  {
   "cell_type": "code",
   "execution_count": 49,
   "metadata": {},
   "outputs": [
    {
     "data": {
      "text/plain": [
       "<matplotlib.image.AxesImage at 0x144953198>"
      ]
     },
     "execution_count": 49,
     "metadata": {},
     "output_type": "execute_result"
    },
    {
     "data": {
      "image/png": "[encoded data removed]",
      "text/plain": [
       "<Figure size 432x288 with 1 Axes>"
      ]
     },
     "metadata": {
      "needs_background": "light"
     },
     "output_type": "display_data"
    }
   ],
   "source": [
    "plt.imshow(image)"
   ]
  },
  {
   "cell_type": "code",
   "execution_count": 122,
   "metadata": {},
   "outputs": [
    {
     "data": {
      "text/plain": [
       "array([ 0.00000000e+00,  0.00000000e+00,  0.00000000e+00,  0.00000000e+00,\n",
       "        0.00000000e+00,  0.00000000e+00,  0.00000000e+00,  0.00000000e+00,\n",
       "        0.00000000e+00,  0.00000000e+00,  0.00000000e+00,  0.00000000e+00,\n",
       "        0.00000000e+00,  0.00000000e+00,  0.00000000e+00,  0.00000000e+00,\n",
       "        0.00000000e+00,  0.00000000e+00,  0.00000000e+00,  0.00000000e+00,\n",
       "        0.00000000e+00,  0.00000000e+00,  0.00000000e+00,  0.00000000e+00,\n",
       "        0.00000000e+00,  0.00000000e+00,  0.00000000e+00,  0.00000000e+00,\n",
       "        0.00000000e+00,  0.00000000e+00,  0.00000000e+00,  0.00000000e+00,\n",
       "        0.00000000e+00,  0.00000000e+00,  0.00000000e+00,  0.00000000e+00,\n",
       "        0.00000000e+00, -2.50980433e-04, -4.64705896e-04, -1.26065483e-04,\n",
       "       -3.55040131e-04, -2.85748538e-04, -1.87660771e-04, -6.29468559e-05,\n",
       "       -1.58379371e-05, -9.41546750e-06, -4.98832719e-07,  0.00000000e+00,\n",
       "        0.00000000e+00,  0.00000000e+00,  0.00000000e+00,  0.00000000e+00,\n",
       "        0.00000000e+00,  0.00000000e+00,  0.00000000e+00,  0.00000000e+00,\n",
       "        0.00000000e+00,  0.00000000e+00,  0.00000000e+00,  0.00000000e+00,\n",
       "        0.00000000e+00,  0.00000000e+00,  0.00000000e+00,  0.00000000e+00,\n",
       "        0.00000000e+00, -3.15686309e-04, -7.98039255e-04, -1.01181341e-03,\n",
       "       -1.57156831e-03, -3.95630114e-03, -3.70447082e-03, -2.33894750e-03,\n",
       "       -2.40723183e-03, -2.26886431e-03, -3.13542481e-03, -2.14175088e-03,\n",
       "       -5.70758944e-04, -3.51203111e-04, -1.76069279e-05,  0.00000000e+00,\n",
       "        0.00000000e+00,  0.00000000e+00,  0.00000000e+00,  0.00000000e+00,\n",
       "        0.00000000e+00,  0.00000000e+00,  0.00000000e+00,  0.00000000e+00,\n",
       "        0.00000000e+00,  0.00000000e+00, -2.26060598e-04, -8.30891717e-04,\n",
       "       -1.34159240e-03, -1.80474017e-03, -3.30396043e-03, -6.91155344e-03,\n",
       "       -1.00995488e-02, -1.36764403e-02, -1.38586638e-02, -1.69434994e-02,\n",
       "       -2.34104004e-02, -2.07743552e-02, -1.65227931e-02, -1.28909135e-02,\n",
       "       -5.45709161e-03, -1.10386987e-03, -1.79674022e-03, -9.19105893e-04,\n",
       "        0.00000000e+00,  0.00000000e+00,  0.00000000e+00,  0.00000000e+00,\n",
       "        0.00000000e+00,  0.00000000e+00,  0.00000000e+00, -7.17820876e-05,\n",
       "       -2.13607054e-04, -1.06042461e-03, -2.88011320e-03, -4.95013827e-03,\n",
       "       -9.57492739e-03, -1.27424663e-02, -1.76782571e-02, -2.12937836e-02,\n",
       "       -1.85796469e-02, -1.82240047e-02, -1.82532966e-02, -2.13067327e-02,\n",
       "       -1.93935297e-02, -1.04863076e-02, -1.78710371e-03, -4.55648359e-03,\n",
       "        4.13785572e-04, -7.12005328e-03, -9.39234719e-03, -4.22617886e-03,\n",
       "       -1.21291087e-03, -4.21447214e-04,  0.00000000e+00,  0.00000000e+00,\n",
       "        0.00000000e+00,  0.00000000e+00,  0.00000000e+00, -3.86411666e-05,\n",
       "       -1.25918805e-03, -3.29836574e-03, -7.82516692e-03, -8.27308372e-03,\n",
       "       -1.38443187e-02, -1.22160884e-02, -1.20878136e-02, -1.38331307e-02,\n",
       "       -6.67315535e-03,  7.09548453e-03,  3.66808698e-02,  4.56058308e-02,\n",
       "        5.94548211e-02,  6.69659376e-02,  5.48046194e-02,  3.09185013e-02,\n",
       "        8.83297622e-03,  2.29708198e-03, -1.22676883e-02, -1.64596625e-02,\n",
       "       -7.49300327e-03, -1.17941992e-04,  0.00000000e+00,  0.00000000e+00,\n",
       "        0.00000000e+00,  0.00000000e+00,  0.00000000e+00, -3.00403888e-04,\n",
       "       -1.85690320e-03, -4.74294554e-03, -8.33532400e-03, -9.69158206e-03,\n",
       "       -6.70832535e-03, -2.55219545e-03, -5.69616258e-03, -2.02662544e-03,\n",
       "        1.35342656e-02,  4.53888178e-02,  4.76575531e-02,  4.10154387e-02,\n",
       "        3.97241488e-02,  5.16278595e-02,  4.23643142e-02,  3.57663110e-02,\n",
       "        1.64785869e-02,  4.43440443e-03, -5.79157565e-03, -9.59584862e-03,\n",
       "       -8.58110655e-03, -1.82542729e-03, -5.74289472e-04,  0.00000000e+00,\n",
       "        0.00000000e+00,  0.00000000e+00, -3.05972237e-04, -1.41391554e-03,\n",
       "       -2.27866927e-04, -3.17526096e-03, -6.08895579e-03,  1.44899241e-03,\n",
       "        8.48880783e-03,  9.55029391e-03, -2.37163622e-03,  8.91365949e-03,\n",
       "        2.02997141e-02,  3.27757485e-02, -4.17150836e-03, -3.12789753e-02,\n",
       "       -3.03387176e-02, -1.78990774e-02, -4.32987139e-03,  2.84282118e-02,\n",
       "        1.98249724e-02,  2.44303420e-02,  2.78334226e-02,  1.15262531e-02,\n",
       "       -7.82682328e-04, -1.89768500e-03, -3.49247362e-04,  0.00000000e+00,\n",
       "        0.00000000e+00,  0.00000000e+00, -5.28040284e-04, -2.06774729e-03,\n",
       "        2.47466657e-03,  1.38300878e-04,  6.43348787e-03,  1.14089409e-02,\n",
       "        1.90811940e-02,  1.84659921e-02,  1.45958476e-02,  2.12173536e-02,\n",
       "        2.34854370e-02,  9.55853425e-03, -2.98873521e-02, -5.69056422e-02,\n",
       "       -6.51590154e-02, -6.07221611e-02, -2.21282169e-02,  2.27855630e-02,\n",
       "        2.28244774e-02,  3.16971950e-02,  5.04777730e-02,  1.95910651e-02,\n",
       "        4.87237470e-04,  1.68809667e-04,  2.73801875e-03,  2.89922301e-03,\n",
       "        0.00000000e+00,  0.00000000e+00, -2.82810768e-04, -2.33988557e-03,\n",
       "       -1.39175972e-04,  5.27022034e-03,  1.38837714e-02,  1.55748017e-02,\n",
       "        3.20099741e-02,  2.69927271e-02,  3.44641879e-02,  3.00733186e-02,\n",
       "        2.53640581e-03, -2.22040974e-02, -4.00160328e-02, -5.43670394e-02,\n",
       "       -6.70390651e-02, -6.24448471e-02, -1.59779526e-02,  3.59006971e-02,\n",
       "        3.23741287e-02,  4.11831141e-02,  4.34762537e-02,  2.29830425e-02,\n",
       "        2.16443464e-03,  2.67372653e-03,  1.77667988e-03,  1.87206978e-03,\n",
       "        0.00000000e+00,  0.00000000e+00,  0.00000000e+00, -1.67330261e-03,\n",
       "        1.84648030e-03,  9.84916463e-03,  1.24515817e-02,  7.74011295e-03,\n",
       "        1.84212774e-02,  2.62090098e-02,  2.92137023e-02,  3.10715251e-02,\n",
       "       -3.55380680e-03, -2.37898082e-02, -4.17837128e-02, -4.50143069e-02,\n",
       "       -4.73066121e-02, -2.48260275e-02,  1.07083227e-02,  4.98855188e-02,\n",
       "        4.78584133e-02,  5.07099070e-02,  3.71419601e-02,  1.24541018e-02,\n",
       "        3.23635433e-03,  1.70442625e-04, -6.24922570e-04,  0.00000000e+00,\n",
       "        0.00000000e+00,  0.00000000e+00,  0.00000000e+00, -7.01449637e-04,\n",
       "        5.30312117e-03,  1.35821672e-02,  9.88179259e-03,  3.78142204e-03,\n",
       "        2.59401463e-03,  1.20138666e-02,  2.23842468e-02,  3.95023189e-02,\n",
       "        2.54015476e-02,  1.14029692e-02, -3.43288742e-02, -1.58359800e-02,\n",
       "       -1.33675076e-02,  8.58680066e-03,  3.57826501e-02,  4.59464490e-02,\n",
       "        3.88052575e-02,  3.97205614e-02,  2.34886091e-02,  7.53427716e-03,\n",
       "        4.37724404e-03, -8.25435738e-04, -2.28045683e-04,  0.00000000e+00,\n",
       "        0.00000000e+00,  0.00000000e+00,  0.00000000e+00, -5.39565284e-04,\n",
       "        3.81922768e-03,  8.92429054e-03,  2.73504970e-03, -5.58604905e-03,\n",
       "       -1.07604861e-02, -9.19050630e-03, -5.00649214e-03,  2.58284844e-02,\n",
       "        4.84172925e-02,  3.33512239e-02,  1.44950617e-02,  1.68849342e-02,\n",
       "        2.73664035e-02,  2.61346716e-02,  1.95027087e-02,  3.69330123e-03,\n",
       "        6.61907624e-03,  4.01163334e-03, -1.13765523e-03,  4.34975466e-03,\n",
       "        6.17599720e-03, -1.04507920e-03, -2.35285243e-05,  0.00000000e+00,\n",
       "        0.00000000e+00,  0.00000000e+00, -1.23506004e-04, -6.20923412e-04,\n",
       "       -8.18315195e-04, -2.41804868e-04, -9.31899250e-03, -2.03257762e-02,\n",
       "       -1.84049401e-02, -2.18459982e-02, -1.05404481e-02,  3.01561151e-02,\n",
       "        5.84125370e-02,  4.61240113e-02,  3.71647738e-02,  4.16235365e-02,\n",
       "        3.64320204e-02, -3.52003612e-03, -2.78830510e-02, -4.09442931e-02,\n",
       "       -3.32158580e-02, -1.13395434e-02, -5.09772729e-03, -1.70118874e-03,\n",
       "        4.71369131e-04, -1.72378914e-05,  0.00000000e+00,  0.00000000e+00,\n",
       "        0.00000000e+00,  0.00000000e+00,  0.00000000e+00, -5.46701602e-04,\n",
       "       -4.00880724e-03, -1.15342019e-02, -2.38210950e-02, -3.43713798e-02,\n",
       "       -3.96372080e-02, -4.51647602e-02, -8.07064958e-03,  3.87072787e-02,\n",
       "        6.96690977e-02,  5.81291728e-02,  4.46901284e-02,  2.53261924e-02,\n",
       "        4.10695374e-03, -5.67423813e-02, -8.64753723e-02, -6.22442402e-02,\n",
       "       -4.09415625e-02, -1.60691626e-02, -7.14686420e-03, -2.54315417e-03,\n",
       "       -2.52572680e-03, -2.75432976e-04,  0.00000000e+00,  0.00000000e+00,\n",
       "        0.00000000e+00,  0.00000000e+00, -7.23473786e-05, -4.58049035e-04,\n",
       "       -5.69348596e-03, -1.76627077e-02, -3.67474295e-02, -5.00856303e-02,\n",
       "       -5.41862100e-02, -5.21050990e-02, -9.69486125e-03,  4.06277180e-02,\n",
       "        8.14524069e-02,  7.08845481e-02,  3.60042676e-02,  1.72835290e-02,\n",
       "       -2.18031071e-02, -6.99784234e-02, -9.25721154e-02, -6.59142137e-02,\n",
       "       -3.78680155e-02, -2.34126225e-02, -6.79744873e-03, -1.67097652e-03,\n",
       "       -5.24884905e-04, -1.95464189e-03, -2.17188266e-04, -8.27535114e-05,\n",
       "        0.00000000e+00,  0.00000000e+00,  0.00000000e+00, -3.72368348e-04,\n",
       "       -7.02565536e-03, -2.21245792e-02, -3.91870663e-02, -5.13387248e-02,\n",
       "       -4.35894728e-02, -3.14714462e-02,  1.34540936e-02,  6.80678263e-02,\n",
       "        9.25739780e-02,  6.39654845e-02,  2.98904367e-02,  1.83107592e-02,\n",
       "       -2.87357047e-02, -6.89410344e-02, -8.45559016e-02, -6.35441467e-02,\n",
       "       -3.39539200e-02, -1.53992213e-02, -6.20833365e-03, -2.98443949e-03,\n",
       "       -2.01794645e-03, -2.61938083e-03, -9.23801446e-04, -2.85410351e-04,\n",
       "        0.00000000e+00,  0.00000000e+00,  0.00000000e+00, -1.20117946e-03,\n",
       "       -8.69131461e-03, -2.50315964e-02, -3.20465714e-02, -3.46279033e-02,\n",
       "       -1.68612972e-02,  3.40756681e-03,  5.13298176e-02,  9.30387527e-02,\n",
       "        6.18012063e-02,  1.80224609e-02,  1.67031121e-03, -7.43426196e-03,\n",
       "       -3.53285708e-02, -6.55925125e-02, -6.22666888e-02, -5.75818010e-02,\n",
       "       -3.82655449e-02, -8.03397316e-03, -5.40636480e-04, -1.27365999e-03,\n",
       "       -1.45027868e-03, -2.26043537e-03, -7.74212182e-04, -9.01911408e-05,\n",
       "        0.00000000e+00,  0.00000000e+00,  0.00000000e+00, -4.47543617e-03,\n",
       "       -9.22572520e-03, -1.96707137e-02, -2.89112888e-02, -2.13188007e-02,\n",
       "       -2.52500176e-04,  4.83219251e-02,  9.31377783e-02,  7.92119205e-02,\n",
       "        7.75211584e-03, -3.75716686e-02, -4.65057641e-02, -3.28363627e-02,\n",
       "       -2.89517641e-02, -5.25586233e-02, -4.96833548e-02, -5.10175601e-02,\n",
       "       -3.20971422e-02, -8.82514101e-03,  7.03940261e-03,  1.04837772e-03,\n",
       "       -2.13250984e-03, -3.21777002e-03, -2.11486680e-04, -7.84313852e-06,\n",
       "        0.00000000e+00,  0.00000000e+00, -2.71846657e-04, -3.13134282e-03,\n",
       "       -9.67308320e-03, -2.04700418e-02, -2.42561754e-02, -1.83927715e-02,\n",
       "        2.46671997e-02,  6.61415681e-02,  8.65701884e-02,  2.52021402e-02,\n",
       "       -4.90585342e-02, -8.48719701e-02, -7.07156584e-02, -4.03500050e-02,\n",
       "       -3.39508951e-02, -3.75087559e-02, -4.13296483e-02, -4.86414321e-02,\n",
       "       -2.70932801e-02, -6.37066597e-03,  1.03423521e-02,  2.88922479e-03,\n",
       "       -3.34798987e-03, -2.30245222e-03,  0.00000000e+00,  0.00000000e+00,\n",
       "        0.00000000e+00,  0.00000000e+00, -3.66763503e-04, -1.79734931e-03,\n",
       "       -1.18735367e-02, -1.88801847e-02, -1.89721398e-02, -8.63911863e-03,\n",
       "        3.50533985e-02,  5.37903234e-02,  4.05972935e-02, -9.88257769e-03,\n",
       "       -7.77323693e-02, -1.02802567e-01, -6.54985756e-02, -1.96045041e-02,\n",
       "       -1.76711958e-02, -2.20686086e-02, -2.25587673e-02, -2.53866985e-02,\n",
       "       -5.94052440e-03,  6.68607187e-03,  8.04986805e-03,  7.21014570e-04,\n",
       "       -3.13567393e-03, -5.74782025e-04,  0.00000000e+00,  0.00000000e+00,\n",
       "        0.00000000e+00, -5.31972510e-05, -3.04686080e-04, -2.99252546e-03,\n",
       "       -9.34323203e-03, -1.26434462e-02, -9.76167433e-03,  2.82156561e-03,\n",
       "        3.22900563e-02,  2.81855762e-02,  2.39034984e-02, -8.10404867e-03,\n",
       "       -5.25782555e-02, -6.29837811e-02, -2.18903832e-02, -3.65578197e-03,\n",
       "        6.59778435e-03,  8.88975244e-03,  7.24088401e-04,  5.61117847e-03,\n",
       "        7.82894157e-03,  7.76581187e-03,  4.12739580e-04, -2.45205127e-03,\n",
       "       -1.28896697e-03,  0.00000000e+00,  0.00000000e+00,  0.00000000e+00,\n",
       "        0.00000000e+00,  0.00000000e+00, -6.85729683e-05, -2.80869007e-03,\n",
       "       -5.15116565e-03, -7.96207879e-03, -1.11497967e-02,  3.87822418e-03,\n",
       "        2.84476466e-02,  3.56040671e-02,  4.19383645e-02,  4.75407653e-02,\n",
       "        2.37090923e-02,  1.61786191e-02,  3.77132855e-02,  4.13280539e-02,\n",
       "        5.40451333e-02,  3.95213589e-02,  2.89234873e-02,  2.30030697e-02,\n",
       "        1.07758930e-02,  5.16598625e-03,  2.41464120e-03, -2.85985018e-03,\n",
       "       -2.18142290e-03,  0.00000000e+00,  0.00000000e+00,  0.00000000e+00,\n",
       "        0.00000000e+00,  0.00000000e+00,  0.00000000e+00, -1.27325731e-03,\n",
       "       -1.31295167e-03, -3.53628863e-03, -2.79789604e-03, -2.84463633e-03,\n",
       "        1.48377661e-02,  3.23994979e-02,  5.64304553e-02,  7.17677847e-02,\n",
       "        9.05981734e-02,  9.14698765e-02,  9.53258350e-02,  7.19808415e-02,\n",
       "        5.67031503e-02,  3.93780619e-02,  2.88263746e-02,  2.22575031e-02,\n",
       "        1.36813615e-02,  9.73865297e-03, -1.90205558e-03, -2.73717474e-03,\n",
       "       -1.03792583e-03, -1.64711790e-04,  0.00000000e+00,  0.00000000e+00,\n",
       "        0.00000000e+00,  0.00000000e+00,  0.00000000e+00, -1.27356689e-04,\n",
       "       -1.06439198e-04, -1.98743050e-03, -5.30396402e-03, -6.64582150e-03,\n",
       "       -1.01773329e-02, -1.29010091e-02, -1.31593551e-03,  1.39181353e-02,\n",
       "        4.11752537e-02,  4.88593988e-02,  4.03239280e-02,  3.14012058e-02,\n",
       "        1.80859007e-02,  1.02957133e-02,  1.11548305e-02,  1.35060996e-02,\n",
       "        9.26840026e-03, -1.73306698e-03, -1.00330636e-03, -3.07248440e-04,\n",
       "        0.00000000e+00,  0.00000000e+00,  0.00000000e+00,  0.00000000e+00,\n",
       "        0.00000000e+00,  0.00000000e+00,  0.00000000e+00,  0.00000000e+00,\n",
       "       -1.03561957e-04, -1.33902917e-03, -1.55144231e-03, -2.40803114e-03,\n",
       "       -1.03212409e-02, -1.93133578e-02, -2.49794759e-02, -2.35356092e-02,\n",
       "       -2.12249625e-02, -1.80872679e-02, -1.03361839e-02, -8.38617794e-03,\n",
       "       -9.37884860e-03, -4.69103921e-03, -3.11966287e-03,  1.78744330e-03,\n",
       "        2.70209392e-03, -1.20177702e-03, -5.67948096e-04, -1.01637219e-04,\n",
       "        0.00000000e+00,  0.00000000e+00,  0.00000000e+00,  0.00000000e+00,\n",
       "        0.00000000e+00,  0.00000000e+00,  0.00000000e+00,  0.00000000e+00,\n",
       "        0.00000000e+00, -1.45542326e-05, -4.60653828e-04, -9.53454117e-04,\n",
       "       -1.37599441e-03, -2.92893755e-03, -3.28328926e-03, -5.27222827e-03,\n",
       "       -5.11834072e-03, -7.23884301e-03, -9.21799429e-03, -5.32838283e-03,\n",
       "       -2.94347201e-03, -3.32849100e-04,  4.22397163e-04, -6.78713550e-04,\n",
       "       -2.10760511e-04, -2.50748941e-04, -4.18024050e-04, -1.01637219e-04,\n",
       "        0.00000000e+00,  0.00000000e+00,  0.00000000e+00,  0.00000000e+00,\n",
       "        0.00000000e+00,  0.00000000e+00,  0.00000000e+00,  0.00000000e+00,\n",
       "        0.00000000e+00, -4.29349864e-04, -4.89992497e-04, -4.60884039e-05,\n",
       "        0.00000000e+00,  0.00000000e+00, -1.96078463e-06, -1.84313743e-04,\n",
       "       -9.69596149e-05, -6.47920242e-04, -9.02568165e-04, -4.34977235e-04,\n",
       "       -3.26731883e-04, -3.26059875e-04, -3.47969035e-05,  0.00000000e+00,\n",
       "        0.00000000e+00, -7.04903287e-05, -3.99991637e-04, -1.01637219e-04,\n",
       "        0.00000000e+00,  0.00000000e+00,  0.00000000e+00,  0.00000000e+00],\n",
       "      dtype=float32)"
      ]
     },
     "execution_count": 122,
     "metadata": {},
     "output_type": "execute_result"
    }
   ],
   "source": [
    "w8 = w[:, 8]\n",
    "w8"
   ]
  },
  {
   "cell_type": "code",
   "execution_count": 123,
   "metadata": {},
   "outputs": [
    {
     "data": {
      "text/plain": [
       "(-0.10280257, 0.095325835)"
      ]
     },
     "execution_count": 123,
     "metadata": {},
     "output_type": "execute_result"
    }
   ],
   "source": [
    "np.min(w8), np.max(w8)"
   ]
  },
  {
   "cell_type": "code",
   "execution_count": 50,
   "metadata": {},
   "outputs": [
    {
     "data": {
      "text/plain": [
       "<matplotlib.image.AxesImage at 0x14a5d6208>"
      ]
     },
     "execution_count": 50,
     "metadata": {},
     "output_type": "execute_result"
    },
    {
     "data": {
      "image/png": "[encoded data removed]",
      "text/plain": [
       "<Figure size 432x288 with 1 Axes>"
      ]
     },
     "metadata": {
      "needs_background": "light"
     },
     "output_type": "display_data"
    }
   ],
   "source": [
    "true7 = data.x_test[0]\n",
    "true7_reshaped = true7.reshape(-1,28)\n",
    "plt.imshow(true7_reshaped)"
   ]
  },
  {
   "cell_type": "code",
   "execution_count": 51,
   "metadata": {},
   "outputs": [
    {
     "data": {
      "text/plain": [
       "-0.1151499"
      ]
     },
     "execution_count": 51,
     "metadata": {},
     "output_type": "execute_result"
    }
   ],
   "source": [
    "np.min(w7)"
   ]
  },
  {
   "cell_type": "code",
   "execution_count": 52,
   "metadata": {},
   "outputs": [
    {
     "data": {
      "text/plain": [
       "0.0"
      ]
     },
     "execution_count": 52,
     "metadata": {},
     "output_type": "execute_result"
    }
   ],
   "source": [
    "np.min(data.x_test[0])"
   ]
  },
  {
   "cell_type": "code",
   "execution_count": 53,
   "metadata": {},
   "outputs": [],
   "source": [
    "true7_adjusted = np.interp(true7, (true7.min(), true7.max()), (-0.1213, 0.1135))"
   ]
  },
  {
   "cell_type": "code",
   "execution_count": 54,
   "metadata": {},
   "outputs": [
    {
     "data": {
      "text/plain": [
       "<matplotlib.image.AxesImage at 0x14a187978>"
      ]
     },
     "execution_count": 54,
     "metadata": {},
     "output_type": "execute_result"
    },
    {
     "data": {
      "image/png": "[encoded data removed]",
      "text/plain": [
       "<Figure size 432x288 with 1 Axes>"
      ]
     },
     "metadata": {
      "needs_background": "light"
     },
     "output_type": "display_data"
    }
   ],
   "source": [
    "plt.imshow(true7_adjusted.reshape(-1,28))"
   ]
  },
  {
   "cell_type": "code",
   "execution_count": 55,
   "metadata": {},
   "outputs": [
    {
     "data": {
      "text/plain": [
       "3.8334547901233913"
      ]
     },
     "execution_count": 55,
     "metadata": {},
     "output_type": "execute_result"
    }
   ],
   "source": [
    "## product of true seven image and its trained weight \n",
    "true7.dot(w7)"
   ]
  },
  {
   "cell_type": "code",
   "execution_count": 56,
   "metadata": {},
   "outputs": [
    {
     "name": "stdout",
     "output_type": "stream",
     "text": [
      "This is true digit 7 multipled with weight for predicting digit 7:  3.8334547901233913\n",
      "This is true digit 2 multipled with weight for predicting digit 7:  -2.346597793060994\n",
      "This is true digit 1 multipled with weight for predicting digit 7:  -0.07922240954221171\n",
      "This is true digit 0 multipled with weight for predicting digit 7:  0.844333752704894\n",
      "This is true digit 4 multipled with weight for predicting digit 7:  0.9619921141431904\n",
      "This is true digit 1 multipled with weight for predicting digit 7:  0.24072656118329253\n",
      "This is true digit 4 multipled with weight for predicting digit 7:  1.2697457575166198\n",
      "This is true digit 9 multipled with weight for predicting digit 7:  0.10194788132269189\n",
      "This is true digit 5 multipled with weight for predicting digit 7:  -0.6152868665371309\n"
     ]
    }
   ],
   "source": [
    "## product of other digits and trained weight for digit 7\n",
    "print(\"This is true digit 7 multipled with weight for predicting digit 7: \", data.x_test[0].dot(w7))\n",
    "print(\"This is true digit 2 multipled with weight for predicting digit 7: \", data.x_test[1].dot(w7))\n",
    "print(\"This is true digit 1 multipled with weight for predicting digit 7: \", data.x_test[2].dot(w7))\n",
    "print(\"This is true digit 0 multipled with weight for predicting digit 7: \", data.x_test[3].dot(w7))\n",
    "print(\"This is true digit 4 multipled with weight for predicting digit 7: \", data.x_test[4].dot(w7))\n",
    "print(\"This is true digit 1 multipled with weight for predicting digit 7: \", data.x_test[5].dot(w7))\n",
    "print(\"This is true digit 4 multipled with weight for predicting digit 7: \", data.x_test[6].dot(w7))\n",
    "print(\"This is true digit 9 multipled with weight for predicting digit 7: \", data.x_test[7].dot(w7))\n",
    "print(\"This is true digit 5 multipled with weight for predicting digit 7: \", data.x_test[8].dot(w7))"
   ]
  },
  {
   "cell_type": "code",
   "execution_count": 57,
   "metadata": {},
   "outputs": [
    {
     "data": {
      "text/plain": [
       "5.114508103037293"
      ]
     },
     "execution_count": 57,
     "metadata": {},
     "output_type": "execute_result"
    }
   ],
   "source": [
    "true7.dot(true7_adjusted)"
   ]
  },
  {
   "cell_type": "code",
   "execution_count": 58,
   "metadata": {},
   "outputs": [
    {
     "name": "stdout",
     "output_type": "stream",
     "text": [
      "This is true digit 7 multipled with weight for predicting digit 7:  5.114508103037293\n",
      "This is true digit 2 multipled with weight for predicting digit 7:  -10.277421647058825\n",
      "This is true digit 1 multipled with weight for predicting digit 7:  -2.6978305651672434\n",
      "This is true digit 0 multipled with weight for predicting digit 7:  -8.155334388312188\n",
      "This is true digit 4 multipled with weight for predicting digit 7:  -3.914633951557094\n",
      "This is true digit 1 multipled with weight for predicting digit 7:  -3.3288542022299117\n",
      "This is true digit 4 multipled with weight for predicting digit 7:  -3.0919151772395232\n",
      "This is true digit 9 multipled with weight for predicting digit 7:  -5.994701327181854\n",
      "This is true digit 5 multipled with weight for predicting digit 7:  -10.001203392541331\n"
     ]
    }
   ],
   "source": [
    "## product of other digits and weight for 7 digits retrieved from original digit 7 \n",
    "print(\"This is true digit 7 multipled with weight for predicting digit 7: \", data.x_test[0].dot(true7_adjusted))\n",
    "print(\"This is true digit 2 multipled with weight for predicting digit 7: \", data.x_test[1].dot(true7_adjusted))\n",
    "print(\"This is true digit 1 multipled with weight for predicting digit 7: \", data.x_test[2].dot(true7_adjusted))\n",
    "print(\"This is true digit 0 multipled with weight for predicting digit 7: \", data.x_test[3].dot(true7_adjusted))\n",
    "print(\"This is true digit 4 multipled with weight for predicting digit 7: \", data.x_test[4].dot(true7_adjusted))\n",
    "print(\"This is true digit 1 multipled with weight for predicting digit 7: \", data.x_test[5].dot(true7_adjusted))\n",
    "print(\"This is true digit 4 multipled with weight for predicting digit 7: \", data.x_test[6].dot(true7_adjusted))\n",
    "print(\"This is true digit 9 multipled with weight for predicting digit 7: \", data.x_test[7].dot(true7_adjusted))\n",
    "print(\"This is true digit 5 multipled with weight for predicting digit 7: \", data.x_test[8].dot(true7_adjusted))"
   ]
  },
  {
   "cell_type": "markdown",
   "metadata": {},
   "source": [
    "### Conversion of pixel values into weights \n",
    "\n",
    "This is converting each digit `785` value into weights within a range `-0.1213 and 0.1135`. The reasoning is I noticed that that's the range in weights for digit 7 in actual training. So using that range, I thought of converting the actual digit 7 image value which is between 0 and 1, into the same range. Then use that as a weight and see if it can also predict and gives a better result. \n",
    "\n",
    "Looks like the weight conversion is very sharp and it's not performing well. The accuracy is only at `33.8%`. "
   ]
  },
  {
   "cell_type": "code",
   "execution_count": 59,
   "metadata": {},
   "outputs": [],
   "source": [
    "w0_1shot = np.interp(data.x_test[10], (data.x_test[10].min(), data.x_test[10].max()), (-0.1213, 0.1135))\n",
    "w1_1shot = np.interp(data.x_test[2], (data.x_test[2].min(), data.x_test[2].max()), (-0.1213, 0.1135))\n",
    "w2_1shot = np.interp(data.x_test[1], (data.x_test[1].min(), data.x_test[1].max()), (-0.1213, 0.1135))\n",
    "w3_1shot = np.interp(data.x_test[30], (data.x_test[30].min(), data.x_test[30].max()), (-0.1213, 0.1135))\n",
    "w4_1shot = np.interp(data.x_test[4], (data.x_test[4].min(), data.x_test[4].max()), (-0.1213, 0.1135))\n",
    "w5_1shot = np.interp(data.x_test[8], (data.x_test[8].min(), data.x_test[8].max()), (-0.1213, 0.1135))\n",
    "w6_1shot = np.interp(data.x_test[11], (data.x_test[11].min(), data.x_test[11].max()), (-0.1213, 0.1135))\n",
    "w7_1shot = np.interp(data.x_test[0], (data.x_test[0].min(), data.x_test[0].max()), (-0.1213, 0.1135))\n",
    "w8_1shot = np.interp(data.x_test[61], (data.x_test[61].min(), data.x_test[61].max()), (-0.1213, 0.1135))\n",
    "w9_1shot = np.interp(data.x_test[9], (data.x_test[9].min(), data.x_test[9].max()), (-0.1213, 0.1135))"
   ]
  },
  {
   "cell_type": "code",
   "execution_count": 60,
   "metadata": {},
   "outputs": [
    {
     "name": "stdout",
     "output_type": "stream",
     "text": [
      "This is true digit 7 multipled with weight for predicting digit 0:  -5.051745122645137\n",
      "This is true digit 2 multipled with weight for predicting digit 0:  -5.6734964675124955\n",
      "This is true digit 1 multipled with weight for predicting digit 0:  -2.6200983144944257\n",
      "This is true digit 0 multipled with weight for predicting digit 0:  -2.773595617070358\n",
      "This is true digit 4 multipled with weight for predicting digit 0:  -1.6789804705882356\n",
      "This is true digit 1 multipled with weight for predicting digit 0:  -3.993523261822376\n",
      "This is true digit 4 multipled with weight for predicting digit 0:  -3.980045951557094\n",
      "This is true digit 9 multipled with weight for predicting digit 0:  -6.513453154940408\n",
      "This is true digit 5 multipled with weight for predicting digit 0:  -4.9586743406382165\n"
     ]
    }
   ],
   "source": [
    "## product of other digits and weight for 1 digits retrieved from original digit 1\n",
    "print(\"This is true digit 7 multipled with weight for predicting digit 0: \", data.x_test[0].dot(w0_1shot))\n",
    "print(\"This is true digit 2 multipled with weight for predicting digit 0: \", data.x_test[1].dot(w0_1shot))\n",
    "print(\"This is true digit 1 multipled with weight for predicting digit 0: \", data.x_test[2].dot(w0_1shot))\n",
    "print(\"This is true digit 0 multipled with weight for predicting digit 0: \", data.x_test[3].dot(w0_1shot))\n",
    "print(\"This is true digit 4 multipled with weight for predicting digit 0: \", data.x_test[4].dot(w0_1shot))\n",
    "print(\"This is true digit 1 multipled with weight for predicting digit 0: \", data.x_test[5].dot(w0_1shot))\n",
    "print(\"This is true digit 4 multipled with weight for predicting digit 0: \", data.x_test[6].dot(w0_1shot))\n",
    "print(\"This is true digit 9 multipled with weight for predicting digit 0: \", data.x_test[7].dot(w0_1shot))\n",
    "print(\"This is true digit 5 multipled with weight for predicting digit 0: \", data.x_test[8].dot(w0_1shot))"
   ]
  },
  {
   "cell_type": "code",
   "execution_count": 61,
   "metadata": {},
   "outputs": [],
   "source": [
    "w0_1shot = np.float32(w0_1shot)\n",
    "w1_1shot = np.float32(w1_1shot)\n",
    "w2_1shot = np.float32(w2_1shot)\n",
    "w3_1shot = np.float32(w3_1shot)\n",
    "w4_1shot = np.float32(w4_1shot)\n",
    "w5_1shot = np.float32(w5_1shot)\n",
    "w6_1shot = np.float32(w6_1shot)\n",
    "w7_1shot = np.float32(w7_1shot)\n",
    "w8_1shot = np.float32(w8_1shot)\n",
    "w9_1shot = np.float32(w9_1shot)"
   ]
  },
  {
   "cell_type": "code",
   "execution_count": 62,
   "metadata": {},
   "outputs": [],
   "source": [
    "weights_1shot = np.stack((w0_1shot, w1_1shot, w2_1shot, w3_1shot, w4_1shot,\n",
    "                   w5_1shot, w6_1shot, w7_1shot, w8_1shot, w9_1shot ), axis=-1)"
   ]
  },
  {
   "cell_type": "code",
   "execution_count": 63,
   "metadata": {},
   "outputs": [
    {
     "data": {
      "text/plain": [
       "9"
      ]
     },
     "execution_count": 63,
     "metadata": {},
     "output_type": "execute_result"
    }
   ],
   "source": [
    "# Checking the 1shot weights\n",
    "np.argmax(np.dot(data.x_test[9], weights_1shot))"
   ]
  },
  {
   "cell_type": "code",
   "execution_count": null,
   "metadata": {},
   "outputs": [],
   "source": [
    "print(bump)"
   ]
  },
  {
   "cell_type": "code",
   "execution_count": 131,
   "metadata": {},
   "outputs": [],
   "source": [
    "def rerun_model(weights):\n",
    "\n",
    "    x = tf.placeholder(tf.float32, [None, img_size_flat])\n",
    "    weights = tf.Variable(weights)\n",
    "\n",
    "    logits = tf.matmul(x, weights) + biases\n",
    "\n",
    "    y_pred = tf.nn.softmax(logits)\n",
    "    y_pred_cls = tf.argmax(y_pred, axis=1)\n",
    "    correct_prediction = tf.equal(y_pred_cls, y_true_cls)\n",
    "\n",
    "    #session = tf.Session()\n",
    "    session.run(tf.global_variables_initializer())\n",
    "\n",
    "    accuracy = tf.reduce_mean(tf.cast(correct_prediction, tf.float32))\n",
    "\n",
    "    feed_dict_test = {x: data.x_test,\n",
    "                      y_true: data.y_test,\n",
    "                      y_true_cls: data.y_test_cls}\n",
    "    \n",
    "    return accuracy, feed_dict_test\n",
    "\n",
    "def print_accuracy(weights): \n",
    "    \n",
    "    accuracy, feed_dict_test = rerun_model(weights)\n",
    "    # Use TensorFlow to compute the accuracy.\n",
    "    acc = session.run(accuracy, feed_dict=feed_dict_test)\n",
    "    \n",
    "    # Print the accuracy.\n",
    "    print(\"Accuracy on test-set: {0:.1%}\".format(acc))\n",
    "    "
   ]
  },
  {
   "cell_type": "code",
   "execution_count": 132,
   "metadata": {},
   "outputs": [
    {
     "name": "stderr",
     "output_type": "stream",
     "text": [
      "W1130 14:45:59.589729 140735734195072 deprecation.py:323] From /Library/Frameworks/Python.framework/Versions/3.6/lib/python3.6/site-packages/tensorflow/python/ops/variables.py:2618: Variable.initialized_value (from tensorflow.python.ops.variables) is deprecated and will be removed in a future version.\n",
      "Instructions for updating:\n",
      "Use Variable.read_value. Variables in 2.X are initialized automatically both in eager and graph (inside tf.defun) contexts.\n"
     ]
    },
    {
     "name": "stdout",
     "output_type": "stream",
     "text": [
      "Accuracy on test-set: 33.8%\n"
     ]
    }
   ],
   "source": [
    "print_accuracy(weights_1shot)"
   ]
  },
  {
   "cell_type": "code",
   "execution_count": 66,
   "metadata": {},
   "outputs": [
    {
     "name": "stdout",
     "output_type": "stream",
     "text": [
      "[[614   0  29  10   0  28  12   0 208  79]\n",
      " [  0 207  52 424   0   9   4   0 166 273]\n",
      " [ 76   0 245  30   0  51   6   0 561  63]\n",
      " [108   0 134 617   1   9   6   0  67  68]\n",
      " [  5   0   0  11  74 203   0   0  88 601]\n",
      " [172   0  21 198   0 108   2   0 206 185]\n",
      " [ 22   0  82  17   1 145 177   0 486  28]\n",
      " [  2   0   0 108  19  17   2 108  46 726]\n",
      " [ 48   0  50 114   0  36  10   0 518 198]\n",
      " [  3   0   1  54  36 128   1   0  78 708]]\n"
     ]
    },
    {
     "data": {
      "image/png": "[encoded data removed]",
      "text/plain": [
       "<Figure size 432x288 with 2 Axes>"
      ]
     },
     "metadata": {
      "needs_background": "light"
     },
     "output_type": "display_data"
    }
   ],
   "source": [
    "print_confusion_matrix()"
   ]
  },
  {
   "cell_type": "code",
   "execution_count": 67,
   "metadata": {},
   "outputs": [
    {
     "data": {
      "image/png": "[encoded data removed]",
      "text/plain": [
       "<Figure size 432x288 with 9 Axes>"
      ]
     },
     "metadata": {},
     "output_type": "display_data"
    }
   ],
   "source": [
    "plot_example_errors()"
   ]
  },
  {
   "cell_type": "code",
   "execution_count": 68,
   "metadata": {},
   "outputs": [
    {
     "data": {
      "image/png": "[encoded data removed]",
      "text/plain": [
       "<Figure size 432x288 with 12 Axes>"
      ]
     },
     "metadata": {},
     "output_type": "display_data"
    }
   ],
   "source": [
    "plot_weights(weights_1shot)"
   ]
  },
  {
   "cell_type": "markdown",
   "metadata": {},
   "source": [
    "### Blurring each digit"
   ]
  },
  {
   "cell_type": "code",
   "execution_count": 69,
   "metadata": {},
   "outputs": [],
   "source": [
    "## blurring by 5x5 is worse, accuracy on test data drops to 22%\n",
    "def gaussian_blur(array):\n",
    "\n",
    "    blurred_pixels = []\n",
    "\n",
    "    for i in range(len(array)): \n",
    "        if i < 58: \n",
    "            blurred_pixels.append(array[i])\n",
    "        elif i > 726: \n",
    "            blurred_pixels.append(array[i])\n",
    "        else:\n",
    "            try:\n",
    "                blurred_pixels.append(np.mean([array[i-58], array[i-57], array[i-56], array[i-55], array[i-54],\n",
    "                                               array[i-30], array[i-29], array[i-28], array[i-27], array[i-26],\n",
    "                                               array[i-2],array[i-1], array[i], array[i+1],array[i+2],\n",
    "                                               array[i+56], array[i+57], array[i+58], array[i+59], array[i+60],\n",
    "                                               array[i+112], array[i+113], array[i+114], array[i+115], array[i+116]]))\n",
    "            except:\n",
    "                blurred_pixels.append(array[i])\n",
    "\n",
    "    return blurred_pixels"
   ]
  },
  {
   "cell_type": "code",
   "execution_count": 70,
   "metadata": {},
   "outputs": [],
   "source": [
    "## accuracy at 36%\n",
    "def gaussian_blur(array):\n",
    "\n",
    "    blurred_pixels = []\n",
    "\n",
    "    for i in range(len(array)): \n",
    "        if i < 30: \n",
    "            blurred_pixels.append(array[i])\n",
    "        elif i > 755: \n",
    "            blurred_pixels.append(array[i])\n",
    "        else:\n",
    "            try:\n",
    "                blurred_pixels.append(np.mean([array[i-29], array[i-28], array[i-27],\n",
    "                                        array[i-1], array[i], array[i+1],\n",
    "                                        array[i+27], array[i+28], array[i+29]]))\n",
    "            except:\n",
    "                blurred_pixels.append(array[i])\n",
    "\n",
    "    return blurred_pixels"
   ]
  },
  {
   "cell_type": "code",
   "execution_count": 71,
   "metadata": {},
   "outputs": [
    {
     "data": {
      "text/plain": [
       "<matplotlib.image.AxesImage at 0x14a356320>"
      ]
     },
     "execution_count": 71,
     "metadata": {},
     "output_type": "execute_result"
    },
    {
     "data": {
      "image/png": "[encoded data removed]",
      "text/plain": [
       "<Figure size 432x288 with 1 Axes>"
      ]
     },
     "metadata": {
      "needs_background": "light"
     },
     "output_type": "display_data"
    }
   ],
   "source": [
    "test1 = np.array(gaussian_blur(data.x_test[0]))\n",
    "plt.imshow(test1.reshape(-1,28))"
   ]
  },
  {
   "cell_type": "code",
   "execution_count": 72,
   "metadata": {},
   "outputs": [],
   "source": [
    "digit0 = np.array(gaussian_blur(data.x_test[10]))\n",
    "digit1 = np.array(gaussian_blur(data.x_test[2]))\n",
    "digit2 = np.array(gaussian_blur(data.x_test[1]))\n",
    "digit3 = np.array(gaussian_blur(data.x_test[30]))\n",
    "digit4 = np.array(gaussian_blur(data.x_test[4]))\n",
    "digit5 = np.array(gaussian_blur(data.x_test[8]))\n",
    "digit6 = np.array(gaussian_blur(data.x_test[11]))\n",
    "digit7 = np.array(gaussian_blur(data.x_test[0]))\n",
    "digit8 = np.array(gaussian_blur(data.x_test[61]))\n",
    "digit9 = np.array(gaussian_blur(data.x_test[9]))"
   ]
  },
  {
   "cell_type": "code",
   "execution_count": 73,
   "metadata": {},
   "outputs": [
    {
     "data": {
      "text/plain": [
       "array([0.00000000e+00, 0.00000000e+00, 0.00000000e+00, 0.00000000e+00,\n",
       "       0.00000000e+00, 0.00000000e+00, 0.00000000e+00, 0.00000000e+00,\n",
       "       0.00000000e+00, 0.00000000e+00, 0.00000000e+00, 0.00000000e+00,\n",
       "       0.00000000e+00, 0.00000000e+00, 0.00000000e+00, 0.00000000e+00,\n",
       "       0.00000000e+00, 0.00000000e+00, 0.00000000e+00, 0.00000000e+00,\n",
       "       0.00000000e+00, 0.00000000e+00, 0.00000000e+00, 0.00000000e+00,\n",
       "       0.00000000e+00, 0.00000000e+00, 0.00000000e+00, 0.00000000e+00,\n",
       "       0.00000000e+00, 0.00000000e+00, 0.00000000e+00, 0.00000000e+00,\n",
       "       0.00000000e+00, 0.00000000e+00, 0.00000000e+00, 0.00000000e+00,\n",
       "       0.00000000e+00, 0.00000000e+00, 0.00000000e+00, 0.00000000e+00,\n",
       "       0.00000000e+00, 0.00000000e+00, 0.00000000e+00, 0.00000000e+00,\n",
       "       0.00000000e+00, 0.00000000e+00, 0.00000000e+00, 0.00000000e+00,\n",
       "       0.00000000e+00, 0.00000000e+00, 0.00000000e+00, 0.00000000e+00,\n",
       "       0.00000000e+00, 0.00000000e+00, 0.00000000e+00, 0.00000000e+00,\n",
       "       0.00000000e+00, 0.00000000e+00, 0.00000000e+00, 0.00000000e+00,\n",
       "       0.00000000e+00, 0.00000000e+00, 0.00000000e+00, 0.00000000e+00,\n",
       "       0.00000000e+00, 0.00000000e+00, 0.00000000e+00, 0.00000000e+00,\n",
       "       0.00000000e+00, 0.00000000e+00, 0.00000000e+00, 0.00000000e+00,\n",
       "       0.00000000e+00, 0.00000000e+00, 0.00000000e+00, 0.00000000e+00,\n",
       "       0.00000000e+00, 0.00000000e+00, 0.00000000e+00, 0.00000000e+00,\n",
       "       0.00000000e+00, 0.00000000e+00, 0.00000000e+00, 0.00000000e+00,\n",
       "       0.00000000e+00, 0.00000000e+00, 0.00000000e+00, 0.00000000e+00,\n",
       "       0.00000000e+00, 0.00000000e+00, 0.00000000e+00, 0.00000000e+00,\n",
       "       0.00000000e+00, 0.00000000e+00, 2.65795207e-02, 2.78867102e-02,\n",
       "       4.61873638e-02, 7.10239651e-02, 1.53812636e-01, 1.86928105e-01,\n",
       "       1.86928105e-01, 1.29411765e-01, 7.79956427e-02, 2.65795207e-02,\n",
       "       0.00000000e+00, 0.00000000e+00, 0.00000000e+00, 0.00000000e+00,\n",
       "       0.00000000e+00, 0.00000000e+00, 0.00000000e+00, 0.00000000e+00,\n",
       "       0.00000000e+00, 0.00000000e+00, 0.00000000e+00, 0.00000000e+00,\n",
       "       0.00000000e+00, 0.00000000e+00, 0.00000000e+00, 0.00000000e+00,\n",
       "       6.10021786e-03, 8.40958606e-02, 2.17429194e-01, 3.15468410e-01,\n",
       "       3.61220044e-01, 3.89978214e-01, 4.80610022e-01, 5.18954248e-01,\n",
       "       5.18954248e-01, 4.57516340e-01, 3.97821351e-01, 2.72331155e-01,\n",
       "       1.38997821e-01, 3.66013072e-02, 0.00000000e+00, 0.00000000e+00,\n",
       "       0.00000000e+00, 0.00000000e+00, 0.00000000e+00, 0.00000000e+00,\n",
       "       0.00000000e+00, 0.00000000e+00, 0.00000000e+00, 0.00000000e+00,\n",
       "       0.00000000e+00, 0.00000000e+00, 0.00000000e+00, 0.00000000e+00,\n",
       "       7.18954248e-02, 2.60566449e-01, 5.04575163e-01, 6.47494553e-01,\n",
       "       6.75381264e-01, 6.77124183e-01, 7.34640523e-01, 7.57734205e-01,\n",
       "       7.52505447e-01, 7.24183007e-01, 6.97603486e-01, 5.98692810e-01,\n",
       "       3.74727669e-01, 1.61655773e-01, 2.00435730e-02, 0.00000000e+00,\n",
       "       0.00000000e+00, 0.00000000e+00, 0.00000000e+00, 0.00000000e+00,\n",
       "       0.00000000e+00, 0.00000000e+00, 0.00000000e+00, 0.00000000e+00,\n",
       "       0.00000000e+00, 0.00000000e+00, 0.00000000e+00, 1.87363834e-02,\n",
       "       1.93028322e-01, 4.92374728e-01, 7.89542484e-01, 8.56644880e-01,\n",
       "       7.67755991e-01, 6.51416122e-01, 5.98257081e-01, 5.76034858e-01,\n",
       "       5.66448802e-01, 6.51416122e-01, 7.86056645e-01, 8.48801743e-01,\n",
       "       6.71023965e-01, 3.55555556e-01, 1.02832244e-01, 7.40740741e-03,\n",
       "       0.00000000e+00, 0.00000000e+00, 0.00000000e+00, 0.00000000e+00,\n",
       "       0.00000000e+00, 0.00000000e+00, 0.00000000e+00, 0.00000000e+00,\n",
       "       0.00000000e+00, 0.00000000e+00, 0.00000000e+00, 4.31372549e-02,\n",
       "       3.22004357e-01, 6.53594771e-01, 8.66230937e-01, 7.25925926e-01,\n",
       "       4.99346405e-01, 3.32461874e-01, 2.71459695e-01, 2.44008715e-01,\n",
       "       2.34422658e-01, 3.23311547e-01, 5.24618736e-01, 7.70370370e-01,\n",
       "       8.10021786e-01, 5.71241830e-01, 2.46187364e-01, 4.00871460e-02,\n",
       "       0.00000000e+00, 0.00000000e+00, 0.00000000e+00, 0.00000000e+00,\n",
       "       0.00000000e+00, 0.00000000e+00, 0.00000000e+00, 0.00000000e+00,\n",
       "       0.00000000e+00, 0.00000000e+00, 0.00000000e+00, 7.05882353e-02,\n",
       "       3.94335512e-01, 6.84095861e-01, 7.58605664e-01, 4.62745098e-01,\n",
       "       1.85185185e-01, 4.53159041e-02, 1.74291939e-02, 5.22875817e-03,\n",
       "       8.71459695e-04, 5.66448802e-02, 2.24836601e-01, 5.40305011e-01,\n",
       "       7.81263617e-01, 7.21568627e-01, 4.05228758e-01, 1.08496732e-01,\n",
       "       0.00000000e+00, 0.00000000e+00, 0.00000000e+00, 0.00000000e+00,\n",
       "       0.00000000e+00, 0.00000000e+00, 0.00000000e+00, 0.00000000e+00,\n",
       "       0.00000000e+00, 0.00000000e+00, 0.00000000e+00, 1.36383442e-01,\n",
       "       4.68409586e-01, 6.92374728e-01, 6.02614379e-01, 2.70588235e-01,\n",
       "       4.66230937e-02, 0.00000000e+00, 0.00000000e+00, 0.00000000e+00,\n",
       "       0.00000000e+00, 0.00000000e+00, 5.83877996e-02, 3.28976035e-01,\n",
       "       6.61002179e-01, 7.96514161e-01, 5.25925926e-01, 1.93899782e-01,\n",
       "       0.00000000e+00, 0.00000000e+00, 0.00000000e+00, 0.00000000e+00,\n",
       "       0.00000000e+00, 0.00000000e+00, 0.00000000e+00, 0.00000000e+00,\n",
       "       0.00000000e+00, 0.00000000e+00, 1.48148148e-02, 2.22657952e-01,\n",
       "       5.48148148e-01, 6.72331155e-01, 4.64488017e-01, 1.38997821e-01,\n",
       "       0.00000000e+00, 0.00000000e+00, 0.00000000e+00, 0.00000000e+00,\n",
       "       0.00000000e+00, 0.00000000e+00, 0.00000000e+00, 1.98257081e-01,\n",
       "       5.30283224e-01, 7.84313725e-01, 5.86056645e-01, 2.54030501e-01,\n",
       "       0.00000000e+00, 0.00000000e+00, 0.00000000e+00, 0.00000000e+00,\n",
       "       0.00000000e+00, 0.00000000e+00, 0.00000000e+00, 0.00000000e+00,\n",
       "       0.00000000e+00, 0.00000000e+00, 6.97167756e-02, 3.60784314e-01,\n",
       "       6.50108932e-01, 6.50544662e-01, 3.59477124e-01, 7.01525054e-02,\n",
       "       0.00000000e+00, 0.00000000e+00, 0.00000000e+00, 0.00000000e+00,\n",
       "       0.00000000e+00, 0.00000000e+00, 0.00000000e+00, 1.38562092e-01,\n",
       "       4.70588235e-01, 7.49019608e-01, 6.10457516e-01, 2.78431373e-01,\n",
       "       0.00000000e+00, 0.00000000e+00, 0.00000000e+00, 0.00000000e+00,\n",
       "       0.00000000e+00, 0.00000000e+00, 0.00000000e+00, 0.00000000e+00,\n",
       "       0.00000000e+00, 0.00000000e+00, 1.62962963e-01, 4.73638344e-01,\n",
       "       6.78431373e-01, 5.40740741e-01, 2.30065359e-01, 2.52723312e-02,\n",
       "       0.00000000e+00, 0.00000000e+00, 0.00000000e+00, 0.00000000e+00,\n",
       "       0.00000000e+00, 0.00000000e+00, 0.00000000e+00, 1.09803922e-01,\n",
       "       4.41830065e-01, 7.20261438e-01, 6.10457516e-01, 2.78431373e-01,\n",
       "       0.00000000e+00, 0.00000000e+00, 0.00000000e+00, 0.00000000e+00,\n",
       "       0.00000000e+00, 0.00000000e+00, 0.00000000e+00, 0.00000000e+00,\n",
       "       0.00000000e+00, 0.00000000e+00, 2.41394336e-01, 5.42919390e-01,\n",
       "       6.43572985e-01, 4.02178649e-01, 1.00653595e-01, 0.00000000e+00,\n",
       "       0.00000000e+00, 0.00000000e+00, 0.00000000e+00, 0.00000000e+00,\n",
       "       0.00000000e+00, 0.00000000e+00, 0.00000000e+00, 1.09803922e-01,\n",
       "       4.41830065e-01, 7.20261438e-01, 6.10457516e-01, 2.78431373e-01,\n",
       "       0.00000000e+00, 0.00000000e+00, 0.00000000e+00, 0.00000000e+00,\n",
       "       0.00000000e+00, 0.00000000e+00, 0.00000000e+00, 0.00000000e+00,\n",
       "       0.00000000e+00, 4.79302832e-03, 2.86710240e-01, 5.64270153e-01,\n",
       "       5.85620915e-01, 3.03703704e-01, 2.61437908e-02, 0.00000000e+00,\n",
       "       0.00000000e+00, 0.00000000e+00, 0.00000000e+00, 0.00000000e+00,\n",
       "       0.00000000e+00, 0.00000000e+00, 0.00000000e+00, 1.09803922e-01,\n",
       "       4.41830065e-01, 7.20261438e-01, 6.10457516e-01, 2.78431373e-01,\n",
       "       0.00000000e+00, 0.00000000e+00, 0.00000000e+00, 0.00000000e+00,\n",
       "       0.00000000e+00, 0.00000000e+00, 0.00000000e+00, 0.00000000e+00,\n",
       "       0.00000000e+00, 4.74945534e-02, 3.46840959e-01, 6.06971678e-01,\n",
       "       5.59477124e-01, 2.60130719e-01, 0.00000000e+00, 0.00000000e+00,\n",
       "       0.00000000e+00, 0.00000000e+00, 0.00000000e+00, 0.00000000e+00,\n",
       "       0.00000000e+00, 0.00000000e+00, 0.00000000e+00, 1.43790850e-01,\n",
       "       4.75816993e-01, 7.52505447e-01, 6.08714597e-01, 2.76688453e-01,\n",
       "       0.00000000e+00, 0.00000000e+00, 0.00000000e+00, 0.00000000e+00,\n",
       "       0.00000000e+00, 0.00000000e+00, 0.00000000e+00, 0.00000000e+00,\n",
       "       0.00000000e+00, 9.01960784e-02, 4.06971678e-01, 6.67102397e-01,\n",
       "       5.76906318e-01, 2.60130719e-01, 0.00000000e+00, 0.00000000e+00,\n",
       "       0.00000000e+00, 0.00000000e+00, 0.00000000e+00, 0.00000000e+00,\n",
       "       0.00000000e+00, 0.00000000e+00, 2.22222222e-02, 2.33115468e-01,\n",
       "       5.65141612e-01, 7.59477124e-01, 5.48583878e-01, 2.16557734e-01,\n",
       "       0.00000000e+00, 0.00000000e+00, 0.00000000e+00, 0.00000000e+00,\n",
       "       0.00000000e+00, 0.00000000e+00, 0.00000000e+00, 0.00000000e+00,\n",
       "       0.00000000e+00, 1.28104575e-01, 4.60130719e-01, 7.20261438e-01,\n",
       "       5.92156863e-01, 2.60130719e-01, 0.00000000e+00, 0.00000000e+00,\n",
       "       0.00000000e+00, 0.00000000e+00, 0.00000000e+00, 0.00000000e+00,\n",
       "       0.00000000e+00, 2.22222222e-02, 1.16339869e-01, 4.01307190e-01,\n",
       "       6.85403050e-01, 7.16775599e-01, 4.31808279e-01, 1.25490196e-01,\n",
       "       0.00000000e+00, 0.00000000e+00, 0.00000000e+00, 0.00000000e+00,\n",
       "       0.00000000e+00, 0.00000000e+00, 0.00000000e+00, 0.00000000e+00,\n",
       "       0.00000000e+00, 1.14161220e-01, 4.40522876e-01, 7.00653595e-01,\n",
       "       5.86492375e-01, 2.60130719e-01, 0.00000000e+00, 0.00000000e+00,\n",
       "       0.00000000e+00, 0.00000000e+00, 0.00000000e+00, 0.00000000e+00,\n",
       "       1.30718954e-03, 9.62962963e-02, 3.01089325e-01, 6.13071895e-01,\n",
       "       7.37690632e-01, 5.67320261e-01, 2.54030501e-01, 3.44226580e-02,\n",
       "       0.00000000e+00, 0.00000000e+00, 0.00000000e+00, 0.00000000e+00,\n",
       "       0.00000000e+00, 0.00000000e+00, 0.00000000e+00, 0.00000000e+00,\n",
       "       0.00000000e+00, 7.14596950e-02, 3.80392157e-01, 6.46623094e-01,\n",
       "       5.83877996e-01, 2.74945534e-01, 8.71459695e-03, 0.00000000e+00,\n",
       "       0.00000000e+00, 0.00000000e+00, 2.00435730e-02, 8.62745098e-02,\n",
       "       1.75599129e-01, 3.61220044e-01, 5.88235294e-01, 7.35947712e-01,\n",
       "       6.39215686e-01, 3.47712418e-01, 1.10675381e-01, 1.74291939e-03,\n",
       "       0.00000000e+00, 0.00000000e+00, 0.00000000e+00, 0.00000000e+00,\n",
       "       0.00000000e+00, 0.00000000e+00, 0.00000000e+00, 0.00000000e+00,\n",
       "       0.00000000e+00, 2.87581699e-02, 3.20261438e-01, 6.10457516e-01,\n",
       "       6.79302832e-01, 4.66230937e-01, 2.54466231e-01, 2.35294118e-01,\n",
       "       2.35294118e-01, 2.35294118e-01, 2.79302832e-01, 3.77777778e-01,\n",
       "       4.99346405e-01, 6.62309368e-01, 7.74727669e-01, 7.05446623e-01,\n",
       "       4.44008715e-01, 1.54684096e-01, 2.39651416e-02, 0.00000000e+00,\n",
       "       0.00000000e+00, 0.00000000e+00, 0.00000000e+00, 0.00000000e+00,\n",
       "       0.00000000e+00, 0.00000000e+00, 0.00000000e+00, 0.00000000e+00,\n",
       "       0.00000000e+00, 0.00000000e+00, 2.21786492e-01, 5.14596950e-01,\n",
       "       7.22875817e-01, 6.90196078e-01, 5.86492375e-01, 5.67320261e-01,\n",
       "       5.67320261e-01, 5.67320261e-01, 6.11328976e-01, 7.08932462e-01,\n",
       "       8.20479303e-01, 8.52287582e-01, 7.44226580e-01, 4.75381264e-01,\n",
       "       2.10457516e-01, 3.18082789e-02, 0.00000000e+00, 0.00000000e+00,\n",
       "       0.00000000e+00, 0.00000000e+00, 0.00000000e+00, 0.00000000e+00,\n",
       "       0.00000000e+00, 0.00000000e+00, 0.00000000e+00, 0.00000000e+00,\n",
       "       0.00000000e+00, 0.00000000e+00, 1.28540305e-01, 3.39869281e-01,\n",
       "       6.30936819e-01, 8.02178649e-01, 8.90631808e-01, 8.99346405e-01,\n",
       "       8.99346405e-01, 8.99346405e-01, 8.79302832e-01, 8.45315904e-01,\n",
       "       7.58169935e-01, 6.32679739e-01, 4.34858388e-01, 2.26579521e-01,\n",
       "       7.23311547e-02, 4.35729847e-03, 0.00000000e+00, 0.00000000e+00,\n",
       "       0.00000000e+00, 0.00000000e+00, 0.00000000e+00, 0.00000000e+00,\n",
       "       0.00000000e+00, 0.00000000e+00, 0.00000000e+00, 0.00000000e+00,\n",
       "       0.00000000e+00, 0.00000000e+00, 3.52941176e-02, 1.35947712e-01,\n",
       "       3.38126362e-01, 5.24183007e-01, 6.44880174e-01, 6.64052288e-01,\n",
       "       6.64052288e-01, 6.64052288e-01, 6.20043573e-01, 5.53812636e-01,\n",
       "       4.34422658e-01, 3.09368192e-01, 1.54248366e-01, 5.22875817e-02,\n",
       "       0.00000000e+00, 0.00000000e+00, 0.00000000e+00, 0.00000000e+00,\n",
       "       0.00000000e+00, 0.00000000e+00, 0.00000000e+00, 0.00000000e+00,\n",
       "       0.00000000e+00, 0.00000000e+00, 0.00000000e+00, 0.00000000e+00,\n",
       "       0.00000000e+00, 0.00000000e+00, 0.00000000e+00, 1.13289760e-02,\n",
       "       1.02832244e-01, 2.13507625e-01, 3.12854031e-01, 3.32026144e-01,\n",
       "       3.32026144e-01, 3.32026144e-01, 2.88017429e-01, 2.22657952e-01,\n",
       "       1.11982571e-01, 4.53159041e-02, 0.00000000e+00, 0.00000000e+00,\n",
       "       0.00000000e+00, 0.00000000e+00, 0.00000000e+00, 0.00000000e+00,\n",
       "       0.00000000e+00, 0.00000000e+00, 0.00000000e+00, 0.00000000e+00,\n",
       "       0.00000000e+00, 0.00000000e+00, 0.00000000e+00, 0.00000000e+00,\n",
       "       0.00000000e+00, 0.00000000e+00, 0.00000000e+00, 0.00000000e+00,\n",
       "       0.00000000e+00, 0.00000000e+00, 0.00000000e+00, 0.00000000e+00,\n",
       "       0.00000000e+00, 0.00000000e+00, 0.00000000e+00, 0.00000000e+00,\n",
       "       0.00000000e+00, 0.00000000e+00, 0.00000000e+00, 0.00000000e+00,\n",
       "       0.00000000e+00, 0.00000000e+00, 0.00000000e+00, 0.00000000e+00,\n",
       "       0.00000000e+00, 0.00000000e+00, 0.00000000e+00, 0.00000000e+00,\n",
       "       0.00000000e+00, 0.00000000e+00, 0.00000000e+00, 0.00000000e+00,\n",
       "       0.00000000e+00, 0.00000000e+00, 0.00000000e+00, 0.00000000e+00,\n",
       "       0.00000000e+00, 0.00000000e+00, 0.00000000e+00, 0.00000000e+00,\n",
       "       0.00000000e+00, 0.00000000e+00, 0.00000000e+00, 0.00000000e+00,\n",
       "       0.00000000e+00, 0.00000000e+00, 0.00000000e+00, 0.00000000e+00,\n",
       "       0.00000000e+00, 0.00000000e+00, 0.00000000e+00, 0.00000000e+00,\n",
       "       0.00000000e+00, 0.00000000e+00, 0.00000000e+00, 0.00000000e+00,\n",
       "       0.00000000e+00, 0.00000000e+00, 0.00000000e+00, 0.00000000e+00,\n",
       "       0.00000000e+00, 0.00000000e+00, 0.00000000e+00, 0.00000000e+00,\n",
       "       0.00000000e+00, 0.00000000e+00, 0.00000000e+00, 0.00000000e+00,\n",
       "       0.00000000e+00, 0.00000000e+00, 0.00000000e+00, 0.00000000e+00,\n",
       "       0.00000000e+00, 0.00000000e+00, 0.00000000e+00, 0.00000000e+00,\n",
       "       0.00000000e+00, 0.00000000e+00, 0.00000000e+00, 0.00000000e+00,\n",
       "       0.00000000e+00, 0.00000000e+00, 0.00000000e+00, 0.00000000e+00])"
      ]
     },
     "execution_count": 73,
     "metadata": {},
     "output_type": "execute_result"
    }
   ],
   "source": [
    "digit0"
   ]
  },
  {
   "cell_type": "code",
   "execution_count": 124,
   "metadata": {},
   "outputs": [],
   "source": [
    "d0 = np.interp(digit0, (digit0.min(), digit0.max()), (-0.1213, 0.1135))\n",
    "d1 = np.interp(digit1, (digit1.min(), digit1.max()), (-0.1213, 0.1135))\n",
    "d2 = np.interp(digit2, (digit2.min(), digit2.max()), (-0.1213, 0.1135))\n",
    "d3 = np.interp(digit3, (digit3.min(), digit3.max()), (-0.1213, 0.1135))\n",
    "d4 = np.interp(digit4, (digit4.min(), digit4.max()), (-0.1213, 0.1135))\n",
    "d5 = np.interp(digit5, (digit5.min(), digit5.max()), (-0.1213, 0.1135))\n",
    "d6 = np.interp(digit6, (digit6.min(), digit6.max()), (-0.1213, 0.1135))\n",
    "d7 = np.interp(digit7, (digit7.min(), digit7.max()), (-0.1213, 0.1135))\n",
    "d8 = np.interp(digit8, (digit8.min(), digit8.max()), (-0.1028, 0.0953))\n",
    "d9 = np.interp(digit9, (digit9.min(), digit9.max()), (-0.1213, 0.1135))"
   ]
  },
  {
   "cell_type": "code",
   "execution_count": 115,
   "metadata": {},
   "outputs": [],
   "source": [
    "# changing the range to see if it helps improve the accuracy \n",
    "\n",
    "d0 = np.interp(digit0, (digit0.min(), digit0.max()), (-0.2, 0.2))\n",
    "d1 = np.interp(digit1, (digit1.min(), digit1.max()), (-0.2, 0.2))\n",
    "d2 = np.interp(digit2, (digit2.min(), digit2.max()), (-0.2, 0.2))\n",
    "d3 = np.interp(digit3, (digit3.min(), digit3.max()), (-0.2, 0.2))\n",
    "d4 = np.interp(digit4, (digit4.min(), digit4.max()), (-0.2, 0.2))\n",
    "d5 = np.interp(digit5, (digit5.min(), digit5.max()), (-0.2, 0.2))\n",
    "d6 = np.interp(digit6, (digit6.min(), digit6.max()), (-0.2, 0.2))\n",
    "d7 = np.interp(digit7, (digit7.min(), digit7.max()), (-0.2, 0.2))\n",
    "d8 = np.interp(digit8, (digit8.min(), digit8.max()), (-0.2, 0.2))\n",
    "d9 = np.interp(digit9, (digit9.min(), digit9.max()), (-0.2, 0.2))"
   ]
  },
  {
   "cell_type": "code",
   "execution_count": 125,
   "metadata": {},
   "outputs": [],
   "source": [
    "d0 = np.float32(d0)\n",
    "d1 = np.float32(d1)\n",
    "d2 = np.float32(d2)\n",
    "d3 = np.float32(d3)\n",
    "d4 = np.float32(d4)\n",
    "d5 = np.float32(d5)\n",
    "d6 = np.float32(d6)\n",
    "d7 = np.float32(d7)\n",
    "d8 = np.float32(d8)\n",
    "d9 = np.float32(d9)"
   ]
  },
  {
   "cell_type": "code",
   "execution_count": 126,
   "metadata": {},
   "outputs": [
    {
     "data": {
      "text/plain": [
       "(784, 10)"
      ]
     },
     "execution_count": 126,
     "metadata": {},
     "output_type": "execute_result"
    }
   ],
   "source": [
    "d_1shot = np.stack((d0, d1, d2, d3, d4, d5, d6, d7, d8, d9), axis=-1)\n",
    "d_1shot.shape"
   ]
  },
  {
   "cell_type": "code",
   "execution_count": 133,
   "metadata": {},
   "outputs": [
    {
     "name": "stdout",
     "output_type": "stream",
     "text": [
      "Accuracy on test-set: 36.1%\n"
     ]
    }
   ],
   "source": [
    "print_accuracy(d_1shot)"
   ]
  },
  {
   "cell_type": "code",
   "execution_count": 129,
   "metadata": {},
   "outputs": [
    {
     "data": {
      "image/png": "[encoded data removed]",
      "text/plain": [
       "<Figure size 432x288 with 12 Axes>"
      ]
     },
     "metadata": {},
     "output_type": "display_data"
    }
   ],
   "source": [
    "plot_weights(d_1shot)"
   ]
  },
  {
   "cell_type": "markdown",
   "metadata": {},
   "source": [
    "### Converting pixel value into weights except '0'"
   ]
  },
  {
   "cell_type": "code",
   "execution_count": 81,
   "metadata": {},
   "outputs": [],
   "source": [
    "def convert(array):\n",
    "    array += 1\n",
    "    t1 = np.zeros(shape=array.shape)\n",
    "    for i in range(len(array)):\n",
    "        if array[i] > 1.5:\n",
    "            t1[i] = (array[i] * 0.1135)/2\n",
    "        elif array[i] < 1.5 and array[i] > 1:\n",
    "            t1[i] = array[i] * -0.1213\n",
    "            \n",
    "    return t1      "
   ]
  },
  {
   "cell_type": "code",
   "execution_count": 82,
   "metadata": {},
   "outputs": [
    {
     "data": {
      "text/plain": [
       "array([0.00000000e+00, 0.00000000e+00, 0.00000000e+00, 0.00000000e+00,\n",
       "       0.00000000e+00, 0.00000000e+00, 0.00000000e+00, 0.00000000e+00,\n",
       "       0.00000000e+00, 0.00000000e+00, 0.00000000e+00, 0.00000000e+00,\n",
       "       0.00000000e+00, 0.00000000e+00, 0.00000000e+00, 0.00000000e+00,\n",
       "       0.00000000e+00, 0.00000000e+00, 0.00000000e+00, 0.00000000e+00,\n",
       "       0.00000000e+00, 0.00000000e+00, 0.00000000e+00, 0.00000000e+00,\n",
       "       0.00000000e+00, 0.00000000e+00, 0.00000000e+00, 0.00000000e+00,\n",
       "       0.00000000e+00, 0.00000000e+00, 0.00000000e+00, 0.00000000e+00,\n",
       "       0.00000000e+00, 0.00000000e+00, 0.00000000e+00, 0.00000000e+00,\n",
       "       0.00000000e+00, 0.00000000e+00, 0.00000000e+00, 0.00000000e+00,\n",
       "       0.00000000e+00, 0.00000000e+00, 0.00000000e+00, 0.00000000e+00,\n",
       "       0.00000000e+00, 0.00000000e+00, 0.00000000e+00, 0.00000000e+00,\n",
       "       0.00000000e+00, 0.00000000e+00, 0.00000000e+00, 0.00000000e+00,\n",
       "       0.00000000e+00, 0.00000000e+00, 0.00000000e+00, 0.00000000e+00,\n",
       "       0.00000000e+00, 0.00000000e+00, 0.00000000e+00, 0.00000000e+00,\n",
       "       0.00000000e+00, 0.00000000e+00, 0.00000000e+00, 0.00000000e+00,\n",
       "       0.00000000e+00, 0.00000000e+00, 0.00000000e+00, 0.00000000e+00,\n",
       "       0.00000000e+00, 0.00000000e+00, 0.00000000e+00, 0.00000000e+00,\n",
       "       0.00000000e+00, 0.00000000e+00, 0.00000000e+00, 0.00000000e+00,\n",
       "       0.00000000e+00, 0.00000000e+00, 0.00000000e+00, 0.00000000e+00,\n",
       "       0.00000000e+00, 0.00000000e+00, 0.00000000e+00, 0.00000000e+00,\n",
       "       0.00000000e+00, 0.00000000e+00, 0.00000000e+00, 0.00000000e+00,\n",
       "       0.00000000e+00, 0.00000000e+00, 0.00000000e+00, 0.00000000e+00,\n",
       "       0.00000000e+00, 0.00000000e+00, 2.65795207e-02, 2.78867102e-02,\n",
       "       4.61873638e-02, 7.10239651e-02, 1.53812636e-01, 1.86928105e-01,\n",
       "       1.86928105e-01, 1.29411765e-01, 7.79956427e-02, 2.65795207e-02,\n",
       "       0.00000000e+00, 0.00000000e+00, 0.00000000e+00, 0.00000000e+00,\n",
       "       0.00000000e+00, 0.00000000e+00, 0.00000000e+00, 0.00000000e+00,\n",
       "       0.00000000e+00, 0.00000000e+00, 0.00000000e+00, 0.00000000e+00,\n",
       "       0.00000000e+00, 0.00000000e+00, 0.00000000e+00, 0.00000000e+00,\n",
       "       6.10021786e-03, 8.40958606e-02, 2.17429194e-01, 3.15468410e-01,\n",
       "       3.61220044e-01, 3.89978214e-01, 4.80610022e-01, 5.18954248e-01,\n",
       "       5.18954248e-01, 4.57516340e-01, 3.97821351e-01, 2.72331155e-01,\n",
       "       1.38997821e-01, 3.66013072e-02, 0.00000000e+00, 0.00000000e+00,\n",
       "       0.00000000e+00, 0.00000000e+00, 0.00000000e+00, 0.00000000e+00,\n",
       "       0.00000000e+00, 0.00000000e+00, 0.00000000e+00, 0.00000000e+00,\n",
       "       0.00000000e+00, 0.00000000e+00, 0.00000000e+00, 0.00000000e+00,\n",
       "       7.18954248e-02, 2.60566449e-01, 5.04575163e-01, 6.47494553e-01,\n",
       "       6.75381264e-01, 6.77124183e-01, 7.34640523e-01, 7.57734205e-01,\n",
       "       7.52505447e-01, 7.24183007e-01, 6.97603486e-01, 5.98692810e-01,\n",
       "       3.74727669e-01, 1.61655773e-01, 2.00435730e-02, 0.00000000e+00,\n",
       "       0.00000000e+00, 0.00000000e+00, 0.00000000e+00, 0.00000000e+00,\n",
       "       0.00000000e+00, 0.00000000e+00, 0.00000000e+00, 0.00000000e+00,\n",
       "       0.00000000e+00, 0.00000000e+00, 0.00000000e+00, 1.87363834e-02,\n",
       "       1.93028322e-01, 4.92374728e-01, 7.89542484e-01, 8.56644880e-01,\n",
       "       7.67755991e-01, 6.51416122e-01, 5.98257081e-01, 5.76034858e-01,\n",
       "       5.66448802e-01, 6.51416122e-01, 7.86056645e-01, 8.48801743e-01,\n",
       "       6.71023965e-01, 3.55555556e-01, 1.02832244e-01, 7.40740741e-03,\n",
       "       0.00000000e+00, 0.00000000e+00, 0.00000000e+00, 0.00000000e+00,\n",
       "       0.00000000e+00, 0.00000000e+00, 0.00000000e+00, 0.00000000e+00,\n",
       "       0.00000000e+00, 0.00000000e+00, 0.00000000e+00, 4.31372549e-02,\n",
       "       3.22004357e-01, 6.53594771e-01, 8.66230937e-01, 7.25925926e-01,\n",
       "       4.99346405e-01, 3.32461874e-01, 2.71459695e-01, 2.44008715e-01,\n",
       "       2.34422658e-01, 3.23311547e-01, 5.24618736e-01, 7.70370370e-01,\n",
       "       8.10021786e-01, 5.71241830e-01, 2.46187364e-01, 4.00871460e-02,\n",
       "       0.00000000e+00, 0.00000000e+00, 0.00000000e+00, 0.00000000e+00,\n",
       "       0.00000000e+00, 0.00000000e+00, 0.00000000e+00, 0.00000000e+00,\n",
       "       0.00000000e+00, 0.00000000e+00, 0.00000000e+00, 7.05882353e-02,\n",
       "       3.94335512e-01, 6.84095861e-01, 7.58605664e-01, 4.62745098e-01,\n",
       "       1.85185185e-01, 4.53159041e-02, 1.74291939e-02, 5.22875817e-03,\n",
       "       8.71459695e-04, 5.66448802e-02, 2.24836601e-01, 5.40305011e-01,\n",
       "       7.81263617e-01, 7.21568627e-01, 4.05228758e-01, 1.08496732e-01,\n",
       "       0.00000000e+00, 0.00000000e+00, 0.00000000e+00, 0.00000000e+00,\n",
       "       0.00000000e+00, 0.00000000e+00, 0.00000000e+00, 0.00000000e+00,\n",
       "       0.00000000e+00, 0.00000000e+00, 0.00000000e+00, 1.36383442e-01,\n",
       "       4.68409586e-01, 6.92374728e-01, 6.02614379e-01, 2.70588235e-01,\n",
       "       4.66230937e-02, 0.00000000e+00, 0.00000000e+00, 0.00000000e+00,\n",
       "       0.00000000e+00, 0.00000000e+00, 5.83877996e-02, 3.28976035e-01,\n",
       "       6.61002179e-01, 7.96514161e-01, 5.25925926e-01, 1.93899782e-01,\n",
       "       0.00000000e+00, 0.00000000e+00, 0.00000000e+00, 0.00000000e+00,\n",
       "       0.00000000e+00, 0.00000000e+00, 0.00000000e+00, 0.00000000e+00,\n",
       "       0.00000000e+00, 0.00000000e+00, 1.48148148e-02, 2.22657952e-01,\n",
       "       5.48148148e-01, 6.72331155e-01, 4.64488017e-01, 1.38997821e-01,\n",
       "       0.00000000e+00, 0.00000000e+00, 0.00000000e+00, 0.00000000e+00,\n",
       "       0.00000000e+00, 0.00000000e+00, 0.00000000e+00, 1.98257081e-01,\n",
       "       5.30283224e-01, 7.84313725e-01, 5.86056645e-01, 2.54030501e-01,\n",
       "       0.00000000e+00, 0.00000000e+00, 0.00000000e+00, 0.00000000e+00,\n",
       "       0.00000000e+00, 0.00000000e+00, 0.00000000e+00, 0.00000000e+00,\n",
       "       0.00000000e+00, 0.00000000e+00, 6.97167756e-02, 3.60784314e-01,\n",
       "       6.50108932e-01, 6.50544662e-01, 3.59477124e-01, 7.01525054e-02,\n",
       "       0.00000000e+00, 0.00000000e+00, 0.00000000e+00, 0.00000000e+00,\n",
       "       0.00000000e+00, 0.00000000e+00, 0.00000000e+00, 1.38562092e-01,\n",
       "       4.70588235e-01, 7.49019608e-01, 6.10457516e-01, 2.78431373e-01,\n",
       "       0.00000000e+00, 0.00000000e+00, 0.00000000e+00, 0.00000000e+00,\n",
       "       0.00000000e+00, 0.00000000e+00, 0.00000000e+00, 0.00000000e+00,\n",
       "       0.00000000e+00, 0.00000000e+00, 1.62962963e-01, 4.73638344e-01,\n",
       "       6.78431373e-01, 5.40740741e-01, 2.30065359e-01, 2.52723312e-02,\n",
       "       0.00000000e+00, 0.00000000e+00, 0.00000000e+00, 0.00000000e+00,\n",
       "       0.00000000e+00, 0.00000000e+00, 0.00000000e+00, 1.09803922e-01,\n",
       "       4.41830065e-01, 7.20261438e-01, 6.10457516e-01, 2.78431373e-01,\n",
       "       0.00000000e+00, 0.00000000e+00, 0.00000000e+00, 0.00000000e+00,\n",
       "       0.00000000e+00, 0.00000000e+00, 0.00000000e+00, 0.00000000e+00,\n",
       "       0.00000000e+00, 0.00000000e+00, 2.41394336e-01, 5.42919390e-01,\n",
       "       6.43572985e-01, 4.02178649e-01, 1.00653595e-01, 0.00000000e+00,\n",
       "       0.00000000e+00, 0.00000000e+00, 0.00000000e+00, 0.00000000e+00,\n",
       "       0.00000000e+00, 0.00000000e+00, 0.00000000e+00, 1.09803922e-01,\n",
       "       4.41830065e-01, 7.20261438e-01, 6.10457516e-01, 2.78431373e-01,\n",
       "       0.00000000e+00, 0.00000000e+00, 0.00000000e+00, 0.00000000e+00,\n",
       "       0.00000000e+00, 0.00000000e+00, 0.00000000e+00, 0.00000000e+00,\n",
       "       0.00000000e+00, 4.79302832e-03, 2.86710240e-01, 5.64270153e-01,\n",
       "       5.85620915e-01, 3.03703704e-01, 2.61437908e-02, 0.00000000e+00,\n",
       "       0.00000000e+00, 0.00000000e+00, 0.00000000e+00, 0.00000000e+00,\n",
       "       0.00000000e+00, 0.00000000e+00, 0.00000000e+00, 1.09803922e-01,\n",
       "       4.41830065e-01, 7.20261438e-01, 6.10457516e-01, 2.78431373e-01,\n",
       "       0.00000000e+00, 0.00000000e+00, 0.00000000e+00, 0.00000000e+00,\n",
       "       0.00000000e+00, 0.00000000e+00, 0.00000000e+00, 0.00000000e+00,\n",
       "       0.00000000e+00, 4.74945534e-02, 3.46840959e-01, 6.06971678e-01,\n",
       "       5.59477124e-01, 2.60130719e-01, 0.00000000e+00, 0.00000000e+00,\n",
       "       0.00000000e+00, 0.00000000e+00, 0.00000000e+00, 0.00000000e+00,\n",
       "       0.00000000e+00, 0.00000000e+00, 0.00000000e+00, 1.43790850e-01,\n",
       "       4.75816993e-01, 7.52505447e-01, 6.08714597e-01, 2.76688453e-01,\n",
       "       0.00000000e+00, 0.00000000e+00, 0.00000000e+00, 0.00000000e+00,\n",
       "       0.00000000e+00, 0.00000000e+00, 0.00000000e+00, 0.00000000e+00,\n",
       "       0.00000000e+00, 9.01960784e-02, 4.06971678e-01, 6.67102397e-01,\n",
       "       5.76906318e-01, 2.60130719e-01, 0.00000000e+00, 0.00000000e+00,\n",
       "       0.00000000e+00, 0.00000000e+00, 0.00000000e+00, 0.00000000e+00,\n",
       "       0.00000000e+00, 0.00000000e+00, 2.22222222e-02, 2.33115468e-01,\n",
       "       5.65141612e-01, 7.59477124e-01, 5.48583878e-01, 2.16557734e-01,\n",
       "       0.00000000e+00, 0.00000000e+00, 0.00000000e+00, 0.00000000e+00,\n",
       "       0.00000000e+00, 0.00000000e+00, 0.00000000e+00, 0.00000000e+00,\n",
       "       0.00000000e+00, 1.28104575e-01, 4.60130719e-01, 7.20261438e-01,\n",
       "       5.92156863e-01, 2.60130719e-01, 0.00000000e+00, 0.00000000e+00,\n",
       "       0.00000000e+00, 0.00000000e+00, 0.00000000e+00, 0.00000000e+00,\n",
       "       0.00000000e+00, 2.22222222e-02, 1.16339869e-01, 4.01307190e-01,\n",
       "       6.85403050e-01, 7.16775599e-01, 4.31808279e-01, 1.25490196e-01,\n",
       "       0.00000000e+00, 0.00000000e+00, 0.00000000e+00, 0.00000000e+00,\n",
       "       0.00000000e+00, 0.00000000e+00, 0.00000000e+00, 0.00000000e+00,\n",
       "       0.00000000e+00, 1.14161220e-01, 4.40522876e-01, 7.00653595e-01,\n",
       "       5.86492375e-01, 2.60130719e-01, 0.00000000e+00, 0.00000000e+00,\n",
       "       0.00000000e+00, 0.00000000e+00, 0.00000000e+00, 0.00000000e+00,\n",
       "       1.30718954e-03, 9.62962963e-02, 3.01089325e-01, 6.13071895e-01,\n",
       "       7.37690632e-01, 5.67320261e-01, 2.54030501e-01, 3.44226580e-02,\n",
       "       0.00000000e+00, 0.00000000e+00, 0.00000000e+00, 0.00000000e+00,\n",
       "       0.00000000e+00, 0.00000000e+00, 0.00000000e+00, 0.00000000e+00,\n",
       "       0.00000000e+00, 7.14596950e-02, 3.80392157e-01, 6.46623094e-01,\n",
       "       5.83877996e-01, 2.74945534e-01, 8.71459695e-03, 0.00000000e+00,\n",
       "       0.00000000e+00, 0.00000000e+00, 2.00435730e-02, 8.62745098e-02,\n",
       "       1.75599129e-01, 3.61220044e-01, 5.88235294e-01, 7.35947712e-01,\n",
       "       6.39215686e-01, 3.47712418e-01, 1.10675381e-01, 1.74291939e-03,\n",
       "       0.00000000e+00, 0.00000000e+00, 0.00000000e+00, 0.00000000e+00,\n",
       "       0.00000000e+00, 0.00000000e+00, 0.00000000e+00, 0.00000000e+00,\n",
       "       0.00000000e+00, 2.87581699e-02, 3.20261438e-01, 6.10457516e-01,\n",
       "       6.79302832e-01, 4.66230937e-01, 2.54466231e-01, 2.35294118e-01,\n",
       "       2.35294118e-01, 2.35294118e-01, 2.79302832e-01, 3.77777778e-01,\n",
       "       4.99346405e-01, 6.62309368e-01, 7.74727669e-01, 7.05446623e-01,\n",
       "       4.44008715e-01, 1.54684096e-01, 2.39651416e-02, 0.00000000e+00,\n",
       "       0.00000000e+00, 0.00000000e+00, 0.00000000e+00, 0.00000000e+00,\n",
       "       0.00000000e+00, 0.00000000e+00, 0.00000000e+00, 0.00000000e+00,\n",
       "       0.00000000e+00, 0.00000000e+00, 2.21786492e-01, 5.14596950e-01,\n",
       "       7.22875817e-01, 6.90196078e-01, 5.86492375e-01, 5.67320261e-01,\n",
       "       5.67320261e-01, 5.67320261e-01, 6.11328976e-01, 7.08932462e-01,\n",
       "       8.20479303e-01, 8.52287582e-01, 7.44226580e-01, 4.75381264e-01,\n",
       "       2.10457516e-01, 3.18082789e-02, 0.00000000e+00, 0.00000000e+00,\n",
       "       0.00000000e+00, 0.00000000e+00, 0.00000000e+00, 0.00000000e+00,\n",
       "       0.00000000e+00, 0.00000000e+00, 0.00000000e+00, 0.00000000e+00,\n",
       "       0.00000000e+00, 0.00000000e+00, 1.28540305e-01, 3.39869281e-01,\n",
       "       6.30936819e-01, 8.02178649e-01, 8.90631808e-01, 8.99346405e-01,\n",
       "       8.99346405e-01, 8.99346405e-01, 8.79302832e-01, 8.45315904e-01,\n",
       "       7.58169935e-01, 6.32679739e-01, 4.34858388e-01, 2.26579521e-01,\n",
       "       7.23311547e-02, 4.35729847e-03, 0.00000000e+00, 0.00000000e+00,\n",
       "       0.00000000e+00, 0.00000000e+00, 0.00000000e+00, 0.00000000e+00,\n",
       "       0.00000000e+00, 0.00000000e+00, 0.00000000e+00, 0.00000000e+00,\n",
       "       0.00000000e+00, 0.00000000e+00, 3.52941176e-02, 1.35947712e-01,\n",
       "       3.38126362e-01, 5.24183007e-01, 6.44880174e-01, 6.64052288e-01,\n",
       "       6.64052288e-01, 6.64052288e-01, 6.20043573e-01, 5.53812636e-01,\n",
       "       4.34422658e-01, 3.09368192e-01, 1.54248366e-01, 5.22875817e-02,\n",
       "       0.00000000e+00, 0.00000000e+00, 0.00000000e+00, 0.00000000e+00,\n",
       "       0.00000000e+00, 0.00000000e+00, 0.00000000e+00, 0.00000000e+00,\n",
       "       0.00000000e+00, 0.00000000e+00, 0.00000000e+00, 0.00000000e+00,\n",
       "       0.00000000e+00, 0.00000000e+00, 0.00000000e+00, 1.13289760e-02,\n",
       "       1.02832244e-01, 2.13507625e-01, 3.12854031e-01, 3.32026144e-01,\n",
       "       3.32026144e-01, 3.32026144e-01, 2.88017429e-01, 2.22657952e-01,\n",
       "       1.11982571e-01, 4.53159041e-02, 0.00000000e+00, 0.00000000e+00,\n",
       "       0.00000000e+00, 0.00000000e+00, 0.00000000e+00, 0.00000000e+00,\n",
       "       0.00000000e+00, 0.00000000e+00, 0.00000000e+00, 0.00000000e+00,\n",
       "       0.00000000e+00, 0.00000000e+00, 0.00000000e+00, 0.00000000e+00,\n",
       "       0.00000000e+00, 0.00000000e+00, 0.00000000e+00, 0.00000000e+00,\n",
       "       0.00000000e+00, 0.00000000e+00, 0.00000000e+00, 0.00000000e+00,\n",
       "       0.00000000e+00, 0.00000000e+00, 0.00000000e+00, 0.00000000e+00,\n",
       "       0.00000000e+00, 0.00000000e+00, 0.00000000e+00, 0.00000000e+00,\n",
       "       0.00000000e+00, 0.00000000e+00, 0.00000000e+00, 0.00000000e+00,\n",
       "       0.00000000e+00, 0.00000000e+00, 0.00000000e+00, 0.00000000e+00,\n",
       "       0.00000000e+00, 0.00000000e+00, 0.00000000e+00, 0.00000000e+00,\n",
       "       0.00000000e+00, 0.00000000e+00, 0.00000000e+00, 0.00000000e+00,\n",
       "       0.00000000e+00, 0.00000000e+00, 0.00000000e+00, 0.00000000e+00,\n",
       "       0.00000000e+00, 0.00000000e+00, 0.00000000e+00, 0.00000000e+00,\n",
       "       0.00000000e+00, 0.00000000e+00, 0.00000000e+00, 0.00000000e+00,\n",
       "       0.00000000e+00, 0.00000000e+00, 0.00000000e+00, 0.00000000e+00,\n",
       "       0.00000000e+00, 0.00000000e+00, 0.00000000e+00, 0.00000000e+00,\n",
       "       0.00000000e+00, 0.00000000e+00, 0.00000000e+00, 0.00000000e+00,\n",
       "       0.00000000e+00, 0.00000000e+00, 0.00000000e+00, 0.00000000e+00,\n",
       "       0.00000000e+00, 0.00000000e+00, 0.00000000e+00, 0.00000000e+00,\n",
       "       0.00000000e+00, 0.00000000e+00, 0.00000000e+00, 0.00000000e+00,\n",
       "       0.00000000e+00, 0.00000000e+00, 0.00000000e+00, 0.00000000e+00,\n",
       "       0.00000000e+00, 0.00000000e+00, 0.00000000e+00, 0.00000000e+00,\n",
       "       0.00000000e+00, 0.00000000e+00, 0.00000000e+00, 0.00000000e+00])"
      ]
     },
     "execution_count": 82,
     "metadata": {},
     "output_type": "execute_result"
    }
   ],
   "source": [
    "digit0"
   ]
  },
  {
   "cell_type": "code",
   "execution_count": 83,
   "metadata": {},
   "outputs": [],
   "source": [
    "d0_mod = convert(digit0)\n",
    "d1_mod = convert(digit1)\n",
    "d2_mod = convert(digit2)\n",
    "d3_mod = convert(digit3)\n",
    "d4_mod = convert(digit4)\n",
    "d5_mod = convert(digit5)\n",
    "d6_mod = convert(digit6)\n",
    "d7_mod = convert(digit7)\n",
    "d8_mod = convert(digit8)\n",
    "d9_mod = convert(digit9)"
   ]
  },
  {
   "cell_type": "code",
   "execution_count": 84,
   "metadata": {},
   "outputs": [
    {
     "data": {
      "text/plain": [
       "array([ 0.        ,  0.        ,  0.        ,  0.        ,  0.        ,\n",
       "        0.        ,  0.        ,  0.        ,  0.        ,  0.        ,\n",
       "        0.        ,  0.        ,  0.        ,  0.        ,  0.        ,\n",
       "        0.        ,  0.        ,  0.        ,  0.        ,  0.        ,\n",
       "        0.        ,  0.        ,  0.        ,  0.        ,  0.        ,\n",
       "        0.        ,  0.        ,  0.        ,  0.        ,  0.        ,\n",
       "        0.        ,  0.        ,  0.        ,  0.        ,  0.        ,\n",
       "        0.        ,  0.        ,  0.        ,  0.        ,  0.        ,\n",
       "        0.        ,  0.        ,  0.        ,  0.        ,  0.        ,\n",
       "        0.        ,  0.        ,  0.        ,  0.        ,  0.        ,\n",
       "        0.        ,  0.        ,  0.        ,  0.        ,  0.        ,\n",
       "        0.        ,  0.        ,  0.        ,  0.        ,  0.        ,\n",
       "        0.        ,  0.        ,  0.        ,  0.        ,  0.        ,\n",
       "        0.        ,  0.        ,  0.        ,  0.        ,  0.        ,\n",
       "        0.        ,  0.        ,  0.        ,  0.        ,  0.        ,\n",
       "        0.        ,  0.        ,  0.        ,  0.        ,  0.        ,\n",
       "        0.        ,  0.        ,  0.        ,  0.        ,  0.        ,\n",
       "        0.        ,  0.        ,  0.        ,  0.        ,  0.        ,\n",
       "        0.        ,  0.        ,  0.        ,  0.        ,  0.        ,\n",
       "        0.        ,  0.        ,  0.        ,  0.        ,  0.        ,\n",
       "        0.        ,  0.        ,  0.        ,  0.        ,  0.        ,\n",
       "        0.        ,  0.        ,  0.        ,  0.        ,  0.        ,\n",
       "        0.        ,  0.        ,  0.        ,  0.        ,  0.        ,\n",
       "        0.        ,  0.        ,  0.        ,  0.        ,  0.        ,\n",
       "        0.        ,  0.        ,  0.        ,  0.        ,  0.        ,\n",
       "        0.        ,  0.        ,  0.        ,  0.        ,  0.        ,\n",
       "        0.        ,  0.        ,  0.        ,  0.        ,  0.        ,\n",
       "        0.        ,  0.        ,  0.        ,  0.        ,  0.        ,\n",
       "        0.        ,  0.        ,  0.        ,  0.        ,  0.        ,\n",
       "        0.        ,  0.        ,  0.        ,  0.        ,  0.        ,\n",
       "        0.        ,  0.        ,  0.        ,  0.        ,  0.        ,\n",
       "        0.        ,  0.        ,  0.        ,  0.        ,  0.        ,\n",
       "        0.        ,  0.        ,  0.        ,  0.        ,  0.        ,\n",
       "        0.        ,  0.        ,  0.        ,  0.        ,  0.        ,\n",
       "        0.        ,  0.        ,  0.        ,  0.        ,  0.        ,\n",
       "        0.        ,  0.        ,  0.        ,  0.        ,  0.        ,\n",
       "       -0.12320275, -0.12616257, -0.13340357, -0.14212449, -0.14968261,\n",
       "       -0.14746275, -0.13879468, -0.12827673, -0.1232556 ,  0.        ,\n",
       "        0.        ,  0.        ,  0.        ,  0.        ,  0.        ,\n",
       "        0.        ,  0.        ,  0.        ,  0.        ,  0.        ,\n",
       "        0.        ,  0.        ,  0.        ,  0.        ,  0.        ,\n",
       "        0.        , -0.12367843, -0.13171224, -0.14598283, -0.15998915,\n",
       "       -0.17262126,  0.08533519,  0.08887124,  0.08783268, -0.17885804,\n",
       "       -0.16606736, -0.15560227, -0.14075028, -0.12959808, -0.12161712,\n",
       "        0.        ,  0.        ,  0.        ,  0.        ,  0.        ,\n",
       "        0.        ,  0.        ,  0.        ,  0.        ,  0.        ,\n",
       "        0.        ,  0.        , -0.12373129, -0.13181795, -0.14688135,\n",
       "       -0.1659088 ,  0.08679412,  0.09302549,  0.09675937,  0.09834194,\n",
       "        0.10247146,  0.10227364,  0.10111144,  0.09458333,  0.09030545,\n",
       "       -0.17024283, -0.14698706, -0.12711394,  0.        ,  0.        ,\n",
       "        0.        ,  0.        ,  0.        ,  0.        ,  0.        ,\n",
       "        0.        ,  0.        ,  0.        ,  0.        , -0.12938667,\n",
       "       -0.1441858 , -0.16569739,  0.08706612,  0.09480588,  0.10032015,\n",
       "        0.09908377,  0.09480588,  0.08879706,  0.09391569,  0.09574553,\n",
       "        0.10353475,  0.10328747,  0.10588388,  0.0975012 , -0.17325551,\n",
       "       -0.14159595, -0.12240993,  0.        ,  0.        ,  0.        ,\n",
       "        0.        ,  0.        ,  0.        ,  0.        ,  0.        ,\n",
       "       -0.12172283, -0.12838244, -0.14984118, -0.1776424 ,  0.09581972,\n",
       "        0.10116089,  0.09913322,  0.09309967, -0.17854092, -0.16342466,\n",
       "       -0.14952405, -0.17156418, -0.1777481 ,  0.09277821,  0.09468224,\n",
       "        0.10504314,  0.1072439 ,  0.09025599, -0.15581368, -0.12351987,\n",
       "        0.        ,  0.        ,  0.        ,  0.        ,  0.        ,\n",
       "        0.        ,  0.        ,  0.        , -0.12552832, -0.14503146,\n",
       "       -0.17991512,  0.09989978,  0.10415294,  0.09727865, -0.18054937,\n",
       "       -0.15946061, -0.1396932 , -0.12938667, -0.12357272, -0.15047542,\n",
       "       -0.1665959 ,  0.08976144,  0.0956219 ,  0.10610643,  0.11003813,\n",
       "        0.09255566, -0.15914349, -0.12378414,  0.        ,  0.        ,\n",
       "        0.        ,  0.        ,  0.        ,  0.        ,  0.        ,\n",
       "        0.        , -0.12949237, -0.16168048,  0.09445969,  0.10805991,\n",
       "        0.10279292,  0.09055272, -0.16627878, -0.1547566 , -0.14962976,\n",
       "       -0.15089826, -0.15644793, -0.17695529,  0.09042908,  0.09742702,\n",
       "        0.10249619,  0.10791155,  0.10514205,  0.08694248, -0.14666993,\n",
       "       -0.1226742 ,  0.        ,  0.        ,  0.        ,  0.        ,\n",
       "        0.        ,  0.        ,  0.        ,  0.        , -0.12954523,\n",
       "       -0.16432318,  0.09547353,  0.10902429,  0.10308965,  0.09418769,\n",
       "        0.08746176,  0.08773377,  0.08850033,  0.0893658 ,  0.09203638,\n",
       "        0.09643791,  0.10301547,  0.10823301,  0.11016176,  0.10469695,\n",
       "        0.09114619, -0.15919634, -0.13213508, -0.12156427,  0.        ,\n",
       "        0.        ,  0.        ,  0.        ,  0.        ,  0.        ,\n",
       "        0.        ,  0.        , -0.12573974, -0.14767416, -0.17484113,\n",
       "        0.09485534,  0.09841612,  0.09975142,  0.09891068,  0.09947941,\n",
       "        0.10083943,  0.10430131,  0.1086781 ,  0.11154651,  0.11263453,\n",
       "        0.11008758,  0.10271874,  0.09023126, -0.16020057, -0.13689194,\n",
       "       -0.12330845,  0.        ,  0.        ,  0.        ,  0.        ,\n",
       "        0.        ,  0.        ,  0.        ,  0.        ,  0.        ,\n",
       "       -0.12177569, -0.13102514, -0.14476719, -0.16485172, -0.17938658,\n",
       "        0.08812941,  0.08840142,  0.08726394,  0.09186329,  0.10081471,\n",
       "        0.10966721,  0.11295599,  0.1091232 ,  0.10029542,  0.08639847,\n",
       "       -0.15391094, -0.13250505, -0.12262135,  0.        ,  0.        ,\n",
       "        0.        ,  0.        ,  0.        ,  0.        ,  0.        ,\n",
       "        0.        ,  0.        ,  0.        ,  0.        ,  0.        ,\n",
       "       -0.12214566, -0.12933381, -0.13964035, -0.14809699, -0.14862553,\n",
       "       -0.15264244, -0.1756868 ,  0.09742702,  0.1095683 ,  0.10890065,\n",
       "        0.09878704, -0.17896375, -0.1488898 , -0.13023233, -0.12214566,\n",
       "        0.        ,  0.        ,  0.        ,  0.        ,  0.        ,\n",
       "        0.        ,  0.        ,  0.        ,  0.        ,  0.        ,\n",
       "        0.        ,  0.        ,  0.        ,  0.        ,  0.        ,\n",
       "        0.        ,  0.        , -0.1265854 , -0.14561285, -0.18081364,\n",
       "        0.10096307,  0.10984031,  0.10172963,  0.08533519, -0.14455577,\n",
       "       -0.12669111, -0.12145856,  0.        ,  0.        ,  0.        ,\n",
       "        0.        ,  0.        ,  0.        ,  0.        ,  0.        ,\n",
       "        0.        ,  0.        ,  0.        ,  0.        ,  0.        ,\n",
       "        0.        ,  0.        ,  0.        ,  0.        , -0.12415412,\n",
       "       -0.14217734, -0.17462972,  0.0991085 ,  0.10922211,  0.10699662,\n",
       "        0.09065163, -0.15412235, -0.12642684,  0.        ,  0.        ,\n",
       "        0.        ,  0.        ,  0.        ,  0.        ,  0.        ,\n",
       "        0.        ,  0.        ,  0.        ,  0.        ,  0.        ,\n",
       "        0.        ,  0.        ,  0.        ,  0.        ,  0.        ,\n",
       "        0.        ,  0.        , -0.131078  , -0.16252614,  0.09458333,\n",
       "        0.10860392,  0.10773845,  0.09586917, -0.16553882, -0.13594057,\n",
       "       -0.12166998,  0.        ,  0.        ,  0.        ,  0.        ,\n",
       "        0.        ,  0.        ,  0.        ,  0.        ,  0.        ,\n",
       "        0.        ,  0.        ,  0.        ,  0.        ,  0.        ,\n",
       "        0.        ,  0.        ,  0.        ,  0.        , -0.1219871 ,\n",
       "       -0.14492575,  0.08632429,  0.10484532,  0.11018649,  0.09923214,\n",
       "       -0.17494684, -0.14059172, -0.12441839,  0.        ,  0.        ,\n",
       "        0.        ,  0.        ,  0.        ,  0.        ,  0.        ,\n",
       "        0.        ,  0.        ,  0.        ,  0.        ,  0.        ,\n",
       "        0.        ,  0.        ,  0.        ,  0.        ,  0.        ,\n",
       "        0.        , -0.12193425, -0.13467207, -0.16818153,  0.09722919,\n",
       "        0.10897484,  0.10328747,  0.08602756, -0.14603569, -0.12468266,\n",
       "        0.        ,  0.        ,  0.        ,  0.        ,  0.        ,\n",
       "        0.        ,  0.        ,  0.        ,  0.        ,  0.        ,\n",
       "        0.        ,  0.        ,  0.        ,  0.        ,  0.        ,\n",
       "        0.        ,  0.        ,  0.        ,  0.        , -0.12605686,\n",
       "       -0.15227246,  0.08995926,  0.10657625,  0.10736754,  0.09260512,\n",
       "       -0.15766357, -0.12975664,  0.        ,  0.        ,  0.        ,\n",
       "        0.        ,  0.        ,  0.        ,  0.        ,  0.        ,\n",
       "        0.        ,  0.        ,  0.        ,  0.        ,  0.        ,\n",
       "        0.        ,  0.        ,  0.        ,  0.        ,  0.        ,\n",
       "        0.        ,  0.        , -0.13710336, -0.17605678,  0.10121035,\n",
       "        0.10976612,  0.09831721, -0.17029569, -0.13620484, -0.12172283,\n",
       "        0.        ,  0.        ,  0.        ,  0.        ,  0.        ,\n",
       "        0.        ,  0.        ,  0.        ,  0.        ,  0.        ,\n",
       "        0.        ,  0.        ,  0.        ,  0.        ,  0.        ,\n",
       "        0.        ,  0.        ,  0.        ,  0.        ,  0.        ,\n",
       "       -0.14846697,  0.08835196,  0.10667516,  0.10425185,  0.08699194,\n",
       "       -0.14677564, -0.12478837,  0.        ,  0.        ,  0.        ,\n",
       "        0.        ,  0.        ,  0.        ,  0.        ,  0.        ,\n",
       "        0.        ,  0.        ,  0.        ,  0.        ,  0.        ,\n",
       "        0.        ,  0.        ,  0.        ,  0.        ,  0.        ,\n",
       "        0.        ,  0.        ,  0.        , -0.15031686,  0.08921743,\n",
       "        0.10393039,  0.09436078, -0.1613105 , -0.12986235,  0.        ,\n",
       "        0.        ,  0.        ,  0.        ,  0.        ,  0.        ,\n",
       "        0.        ,  0.        ,  0.        ,  0.        ,  0.        ,\n",
       "        0.        ,  0.        ,  0.        ,  0.        ,  0.        ,\n",
       "        0.        ,  0.        ,  0.        ,  0.        ,  0.        ,\n",
       "        0.        , -0.13927037, -0.16622593,  0.08620065, -0.16760013,\n",
       "       -0.14064458, -0.12262135,  0.        ,  0.        ,  0.        ,\n",
       "        0.        ,  0.        ,  0.        ,  0.        ,  0.        ,\n",
       "        0.        ,  0.        ,  0.        ,  0.        ,  0.        ,\n",
       "        0.        ,  0.        ,  0.        ,  0.        ,  0.        ,\n",
       "        0.        ,  0.        ,  0.        ,  0.        ,  0.        ,\n",
       "        0.        ,  0.        ,  0.        ,  0.        ,  0.        ,\n",
       "        0.        ,  0.        ,  0.        ,  0.        ,  0.        ,\n",
       "        0.        ,  0.        ,  0.        ,  0.        ,  0.        ,\n",
       "        0.        ,  0.        ,  0.        ,  0.        ])"
      ]
     },
     "execution_count": 84,
     "metadata": {},
     "output_type": "execute_result"
    }
   ],
   "source": [
    "d9_mod"
   ]
  },
  {
   "cell_type": "code",
   "execution_count": 85,
   "metadata": {},
   "outputs": [],
   "source": [
    "d0_mod = np.float32(d0_mod)\n",
    "d1_mod = np.float32(d1_mod)\n",
    "d2_mod = np.float32(d2_mod)\n",
    "d3_mod = np.float32(d3_mod)\n",
    "d4_mod = np.float32(d4_mod)\n",
    "d5_mod = np.float32(d5_mod)\n",
    "d6_mod = np.float32(d6_mod)\n",
    "d7_mod = np.float32(d7_mod)\n",
    "d8_mod = np.float32(d8_mod)\n",
    "d9_mod = np.float32(d9_mod)"
   ]
  },
  {
   "cell_type": "code",
   "execution_count": 86,
   "metadata": {},
   "outputs": [
    {
     "data": {
      "text/plain": [
       "(784, 10)"
      ]
     },
     "execution_count": 86,
     "metadata": {},
     "output_type": "execute_result"
    }
   ],
   "source": [
    "d_mod_1shot = np.stack((d0_mod, d1_mod, d2_mod, d3_mod, d4_mod, d5_mod, d6_mod, d7_mod, d8_mod, d9_mod), axis=-1)\n",
    "d_mod_1shot.shape"
   ]
  },
  {
   "cell_type": "code",
   "execution_count": 134,
   "metadata": {},
   "outputs": [
    {
     "name": "stdout",
     "output_type": "stream",
     "text": [
      "Accuracy on test-set: 20.6%\n"
     ]
    }
   ],
   "source": [
    "print_accuracy(d_mod_1shot)"
   ]
  },
  {
   "cell_type": "code",
   "execution_count": null,
   "metadata": {},
   "outputs": [],
   "source": []
  },
  {
   "cell_type": "code",
   "execution_count": 108,
   "metadata": {},
   "outputs": [
    {
     "name": "stdout",
     "output_type": "stream",
     "text": [
      "w7:  [-2.4828499e-02 -1.6133282e-02 -1.2034899e-02 -7.3759323e-03\n",
      " -2.3003968e-03 -1.3373345e-03 -5.6502130e-04 -3.3614186e-05\n",
      "  0.0000000e+00  0.0000000e+00  0.0000000e+00  0.0000000e+00\n",
      "  0.0000000e+00 -3.7333619e-05 -5.8346509e-04 -1.7453544e-03\n",
      " -4.4835815e-03 -7.8013758e-03 -1.2062638e-02 -2.0137656e-02]\n",
      "d7:  [-0.1213 -0.1213 -0.1213 -0.1213 -0.1213 -0.1213 -0.1213 -0.1213 -0.1213\n",
      " -0.1213 -0.1213 -0.1213 -0.1213 -0.1213 -0.1213 -0.1213 -0.1213 -0.1213\n",
      " -0.1213 -0.1213]\n"
     ]
    }
   ],
   "source": [
    "# comparison of real weight for digit 7 and \n",
    "# d7, gaussian blur with 3x3\n",
    "\n",
    "print(\"w7: \", w7[130:150])\n",
    "print(\"d7: \", d7[130:150])\n"
   ]
  },
  {
   "cell_type": "code",
   "execution_count": null,
   "metadata": {},
   "outputs": [],
   "source": []
  },
  {
   "cell_type": "code",
   "execution_count": null,
   "metadata": {},
   "outputs": [],
   "source": []
  },
  {
   "cell_type": "markdown",
   "metadata": {},
   "source": [
    "## Performance after 1000 optimization iterations\n",
    "\n",
    "After 1000 optimization iterations, the model only mis-classifies about one in ten images. As demonstrated below, some of the mis-classifications are justified because the images are very hard to determine with certainty even for humans, while others are quite obvious and should have been classified correctly by a good model. But this simple model cannot reach much better performance and more complex models are therefore needed."
   ]
  },
  {
   "cell_type": "code",
   "execution_count": 158,
   "metadata": {},
   "outputs": [],
   "source": [
    "# We have already performed 10 iterations.\n",
    "optimize(num_iterations=990)"
   ]
  },
  {
   "cell_type": "code",
   "execution_count": 159,
   "metadata": {},
   "outputs": [
    {
     "name": "stdout",
     "output_type": "stream",
     "text": [
      "Accuracy on test-set: 92.0%\n"
     ]
    }
   ],
   "source": [
    "print_accuracy()"
   ]
  },
  {
   "cell_type": "code",
   "execution_count": 160,
   "metadata": {},
   "outputs": [
    {
     "data": {
      "image/png": "[encoded data removed]",
      "text/plain": [
       "<Figure size 432x288 with 9 Axes>"
      ]
     },
     "metadata": {},
     "output_type": "display_data"
    }
   ],
   "source": [
    "plot_example_errors()"
   ]
  },
  {
   "cell_type": "markdown",
   "metadata": {},
   "source": [
    "The model has now been trained for 1000 optimization iterations, with each iteration using 100 images from the training-set. Because of the great variety of the images, the weights have now become difficult to interpret and we may doubt whether the model truly understands how digits are composed from lines, or whether the model has just memorized many different variations of pixels."
   ]
  },
  {
   "cell_type": "code",
   "execution_count": 161,
   "metadata": {},
   "outputs": [
    {
     "data": {
      "image/png": "[encoded data removed]",
      "text/plain": [
       "<Figure size 432x288 with 12 Axes>"
      ]
     },
     "metadata": {},
     "output_type": "display_data"
    }
   ],
   "source": [
    "plot_weights(weights)"
   ]
  },
  {
   "cell_type": "markdown",
   "metadata": {},
   "source": [
    "We can also print and plot the so-called confusion matrix which lets us see more details about the mis-classifications. For example, it shows that images actually depicting a 5 have sometimes been mis-classified as all other possible digits, but mostly as 6 or 8."
   ]
  },
  {
   "cell_type": "code",
   "execution_count": 162,
   "metadata": {},
   "outputs": [
    {
     "name": "stdout",
     "output_type": "stream",
     "text": [
      "[[ 959    0    3    2    0    4    8    2    2    0]\n",
      " [   0 1109    2    2    0    3    4    1   14    0]\n",
      " [   4    8  926   12   12    4    9   10   40    7]\n",
      " [   2    1   22  915    0   28    2    9   16   15]\n",
      " [   2    3    6    1  910    0    9    2    8   41]\n",
      " [  10    4    9   28    9  774   11    6   34    7]\n",
      " [  16    3   13    1   15   19  887    1    3    0]\n",
      " [   1    7   21    9    6    2    0  936    3   43]\n",
      " [   7    9    8   19    9   19   11    9  871   12]\n",
      " [   9    7    2   11   32    7    0   24    7  910]]\n"
     ]
    },
    {
     "data": {
      "image/png": "[encoded data removed]",
      "text/plain": [
       "<Figure size 432x288 with 2 Axes>"
      ]
     },
     "metadata": {
      "needs_background": "light"
     },
     "output_type": "display_data"
    }
   ],
   "source": [
    "print_confusion_matrix()"
   ]
  },
  {
   "cell_type": "markdown",
   "metadata": {},
   "source": [
    "We are now done using TensorFlow, so we close the session to release its resources."
   ]
  },
  {
   "cell_type": "code",
   "execution_count": null,
   "metadata": {},
   "outputs": [],
   "source": [
    "# This has been commented out in case you want to modify and experiment\n",
    "# with the Notebook without having to restart it.\n",
    "# session.close()"
   ]
  },
  {
   "cell_type": "markdown",
   "metadata": {},
   "source": [
    "## Exercises\n",
    "\n",
    "These are a few suggestions for exercises that may help improve your skills with TensorFlow. It is important to get hands-on experience with TensorFlow in order to learn how to use it properly.\n",
    "\n",
    "You may want to backup this Notebook before making any changes.\n",
    "\n",
    "* Change the learning-rate for the optimizer.\n",
    "* Change the optimizer to e.g. `AdagradOptimizer` or `AdamOptimizer`.\n",
    "* Change the batch-size to e.g. 1 or 1000.\n",
    "* How do these changes affect the performance?\n",
    "* Do you think these changes will have the same effect (if any) on other classification problems and mathematical models?\n",
    "* Do you get the exact same results if you run the Notebook multiple times without changing any parameters? Why or why not?\n",
    "* Change the function `plot_example_errors()` so it also prints the `logits` and `y_pred` values for the mis-classified examples.\n",
    "* Use `sparse_softmax_cross_entropy_with_logits` instead of `softmax_cross_entropy_with_logits`. This may require several changes to multiple places in the source-code. Discuss the advantages and disadvantages of using the two methods.\n",
    "* Remake the program yourself without looking too much at this source-code.\n",
    "* Explain to a friend how the program works."
   ]
  },
  {
   "cell_type": "markdown",
   "metadata": {},
   "source": [
    "## License (MIT)\n",
    "\n",
    "Copyright (c) 2016 by [Magnus Erik Hvass Pedersen](http://www.hvass-labs.org/)\n",
    "\n",
    "Permission is hereby granted, free of charge, to any person obtaining a copy of this software and associated documentation files (the \"Software\"), to deal in the Software without restriction, including without limitation the rights to use, copy, modify, merge, publish, distribute, sublicense, and/or sell copies of the Software, and to permit persons to whom the Software is furnished to do so, subject to the following conditions:\n",
    "\n",
    "The above copyright notice and this permission notice shall be included in all copies or substantial portions of the Software.\n",
    "\n",
    "THE SOFTWARE IS PROVIDED \"AS IS\", WITHOUT WARRANTY OF ANY KIND, EXPRESS OR IMPLIED, INCLUDING BUT NOT LIMITED TO THE WARRANTIES OF MERCHANTABILITY, FITNESS FOR A PARTICULAR PURPOSE AND NONINFRINGEMENT. IN NO EVENT SHALL THE AUTHORS OR COPYRIGHT HOLDERS BE LIABLE FOR ANY CLAIM, DAMAGES OR OTHER LIABILITY, WHETHER IN AN ACTION OF CONTRACT, TORT OR OTHERWISE, ARISING FROM, OUT OF OR IN CONNECTION WITH THE SOFTWARE OR THE USE OR OTHER DEALINGS IN THE SOFTWARE."
   ]
  }
 ],
 "metadata": {
  "anaconda-cloud": {},
  "kernelspec": {
   "display_name": "Python 3",
   "language": "python",
   "name": "python3"
  },
  "language_info": {
   "codemirror_mode": {
    "name": "ipython",
    "version": 3
   },
   "file_extension": ".py",
   "mimetype": "text/x-python",
   "name": "python",
   "nbconvert_exporter": "python",
   "pygments_lexer": "ipython3",
   "version": "3.6.8"
  }
 },
 "nbformat": 4,
 "nbformat_minor": 1
}
